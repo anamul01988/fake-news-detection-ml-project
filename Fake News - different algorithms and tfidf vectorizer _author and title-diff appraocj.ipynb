{
  "cells": [
    {
      "cell_type": "markdown",
      "metadata": {
        "id": "gGGioSQ0h0Ee"
      },
      "source": [
        ""
      ],
      "id": "gGGioSQ0h0Ee"
    },
    {
      "cell_type": "markdown",
      "metadata": {
        "id": "967d85cc"
      },
      "source": [
        "# Fake news classifier using different algorithms\n",
        "- <b>trainning on : title and author</b>\n",
        "- tfidf vectorizer and gri _searchCV\n",
        "1. MultinomialNB(vanilla and with tuning)\n",
        "2. PassiveAggressiveClassifier(vanilla and with tuning)\n",
        "3. LogisticRegression\n",
        "*source: https://www.kaggle.com/c/fake-news/data"
      ],
      "id": "967d85cc"
    },
    {
      "cell_type": "code",
      "execution_count": 2,
      "metadata": {
        "colab": {
          "base_uri": "https://localhost:8080/"
        },
        "id": "yPN6cuDY6w83",
        "outputId": "bf4f0a45-a2f9-46ae-ca62-0e90834a9024"
      },
      "outputs": [
        {
          "output_type": "stream",
          "name": "stdout",
          "text": [
            "Drive already mounted at /content/drive; to attempt to forcibly remount, call drive.mount(\"/content/drive\", force_remount=True).\n"
          ]
        }
      ],
      "source": [
        "from google.colab import drive\n",
        "drive.mount('/content/drive')"
      ],
      "id": "yPN6cuDY6w83"
    },
    {
      "cell_type": "code",
      "execution_count": 3,
      "metadata": {
        "id": "1923c136"
      },
      "outputs": [],
      "source": [
        "### importing and loading"
      ],
      "id": "1923c136"
    },
    {
      "cell_type": "code",
      "execution_count": 4,
      "metadata": {
        "id": "7a1e5625"
      },
      "outputs": [],
      "source": [
        "#import os\n",
        "#import sys\n",
        "import numpy as np\n",
        "import pandas as pd\n",
        "#import seaborn as sns\n",
        "import matplotlib.pyplot as plt\n",
        "\n",
        "import re \n",
        "from nltk.corpus import stopwords \n",
        "\n",
        "from nltk.stem.porter import PorterStemmer\n",
        "from sklearn.feature_extraction.text import CountVectorizer, TfidfVectorizer, HashingVectorizer\n",
        "\n",
        "from sklearn.model_selection import train_test_split \n",
        "\n",
        "from sklearn.naive_bayes import MultinomialNB\n",
        "from sklearn.linear_model import PassiveAggressiveClassifier\n",
        "from sklearn.linear_model import LogisticRegression\n",
        "from sklearn import metrics\n",
        "from sklearn.metrics import accuracy_score \n",
        "from sklearn.metrics import plot_confusion_matrix\n",
        "\n",
        "from sklearn.model_selection import GridSearchCV\n",
        "from sklearn.model_selection import cross_val_score"
      ],
      "id": "7a1e5625"
    },
    {
      "cell_type": "code",
      "execution_count": 5,
      "metadata": {
        "colab": {
          "base_uri": "https://localhost:8080/",
          "height": 144
        },
        "id": "30e6073a",
        "outputId": "63279d54-8a89-426f-ad9c-dd6b9415b33a"
      },
      "outputs": [
        {
          "output_type": "display_data",
          "data": {
            "text/plain": [
              "                                               title              author  \\\n",
              "0  House Dem Aide: We Didn’t Even See Comey’s Let...       Darrell Lucus   \n",
              "1  FLYNN: Hillary Clinton, Big Woman on Campus - ...     Daniel J. Flynn   \n",
              "2                  Why the Truth Might Get You Fired  Consortiumnews.com   \n",
              "\n",
              "                                                text  label  \n",
              "0  House Dem Aide: We Didn’t Even See Comey’s Let...      1  \n",
              "1  Ever get the feeling your life circles the rou...      0  \n",
              "2  Why the Truth Might Get You Fired October 29, ...      1  "
            ],
            "text/html": [
              "\n",
              "  <div id=\"df-677c689c-c15e-4f25-8284-a9c75ae387b5\">\n",
              "    <div class=\"colab-df-container\">\n",
              "      <div>\n",
              "<style scoped>\n",
              "    .dataframe tbody tr th:only-of-type {\n",
              "        vertical-align: middle;\n",
              "    }\n",
              "\n",
              "    .dataframe tbody tr th {\n",
              "        vertical-align: top;\n",
              "    }\n",
              "\n",
              "    .dataframe thead th {\n",
              "        text-align: right;\n",
              "    }\n",
              "</style>\n",
              "<table border=\"1\" class=\"dataframe\">\n",
              "  <thead>\n",
              "    <tr style=\"text-align: right;\">\n",
              "      <th></th>\n",
              "      <th>title</th>\n",
              "      <th>author</th>\n",
              "      <th>text</th>\n",
              "      <th>label</th>\n",
              "    </tr>\n",
              "  </thead>\n",
              "  <tbody>\n",
              "    <tr>\n",
              "      <th>0</th>\n",
              "      <td>House Dem Aide: We Didn’t Even See Comey’s Let...</td>\n",
              "      <td>Darrell Lucus</td>\n",
              "      <td>House Dem Aide: We Didn’t Even See Comey’s Let...</td>\n",
              "      <td>1</td>\n",
              "    </tr>\n",
              "    <tr>\n",
              "      <th>1</th>\n",
              "      <td>FLYNN: Hillary Clinton, Big Woman on Campus - ...</td>\n",
              "      <td>Daniel J. Flynn</td>\n",
              "      <td>Ever get the feeling your life circles the rou...</td>\n",
              "      <td>0</td>\n",
              "    </tr>\n",
              "    <tr>\n",
              "      <th>2</th>\n",
              "      <td>Why the Truth Might Get You Fired</td>\n",
              "      <td>Consortiumnews.com</td>\n",
              "      <td>Why the Truth Might Get You Fired October 29, ...</td>\n",
              "      <td>1</td>\n",
              "    </tr>\n",
              "  </tbody>\n",
              "</table>\n",
              "</div>\n",
              "      <button class=\"colab-df-convert\" onclick=\"convertToInteractive('df-677c689c-c15e-4f25-8284-a9c75ae387b5')\"\n",
              "              title=\"Convert this dataframe to an interactive table.\"\n",
              "              style=\"display:none;\">\n",
              "        \n",
              "  <svg xmlns=\"http://www.w3.org/2000/svg\" height=\"24px\"viewBox=\"0 0 24 24\"\n",
              "       width=\"24px\">\n",
              "    <path d=\"M0 0h24v24H0V0z\" fill=\"none\"/>\n",
              "    <path d=\"M18.56 5.44l.94 2.06.94-2.06 2.06-.94-2.06-.94-.94-2.06-.94 2.06-2.06.94zm-11 1L8.5 8.5l.94-2.06 2.06-.94-2.06-.94L8.5 2.5l-.94 2.06-2.06.94zm10 10l.94 2.06.94-2.06 2.06-.94-2.06-.94-.94-2.06-.94 2.06-2.06.94z\"/><path d=\"M17.41 7.96l-1.37-1.37c-.4-.4-.92-.59-1.43-.59-.52 0-1.04.2-1.43.59L10.3 9.45l-7.72 7.72c-.78.78-.78 2.05 0 2.83L4 21.41c.39.39.9.59 1.41.59.51 0 1.02-.2 1.41-.59l7.78-7.78 2.81-2.81c.8-.78.8-2.07 0-2.86zM5.41 20L4 18.59l7.72-7.72 1.47 1.35L5.41 20z\"/>\n",
              "  </svg>\n",
              "      </button>\n",
              "      \n",
              "  <style>\n",
              "    .colab-df-container {\n",
              "      display:flex;\n",
              "      flex-wrap:wrap;\n",
              "      gap: 12px;\n",
              "    }\n",
              "\n",
              "    .colab-df-convert {\n",
              "      background-color: #E8F0FE;\n",
              "      border: none;\n",
              "      border-radius: 50%;\n",
              "      cursor: pointer;\n",
              "      display: none;\n",
              "      fill: #1967D2;\n",
              "      height: 32px;\n",
              "      padding: 0 0 0 0;\n",
              "      width: 32px;\n",
              "    }\n",
              "\n",
              "    .colab-df-convert:hover {\n",
              "      background-color: #E2EBFA;\n",
              "      box-shadow: 0px 1px 2px rgba(60, 64, 67, 0.3), 0px 1px 3px 1px rgba(60, 64, 67, 0.15);\n",
              "      fill: #174EA6;\n",
              "    }\n",
              "\n",
              "    [theme=dark] .colab-df-convert {\n",
              "      background-color: #3B4455;\n",
              "      fill: #D2E3FC;\n",
              "    }\n",
              "\n",
              "    [theme=dark] .colab-df-convert:hover {\n",
              "      background-color: #434B5C;\n",
              "      box-shadow: 0px 1px 3px 1px rgba(0, 0, 0, 0.15);\n",
              "      filter: drop-shadow(0px 1px 2px rgba(0, 0, 0, 0.3));\n",
              "      fill: #FFFFFF;\n",
              "    }\n",
              "  </style>\n",
              "\n",
              "      <script>\n",
              "        const buttonEl =\n",
              "          document.querySelector('#df-677c689c-c15e-4f25-8284-a9c75ae387b5 button.colab-df-convert');\n",
              "        buttonEl.style.display =\n",
              "          google.colab.kernel.accessAllowed ? 'block' : 'none';\n",
              "\n",
              "        async function convertToInteractive(key) {\n",
              "          const element = document.querySelector('#df-677c689c-c15e-4f25-8284-a9c75ae387b5');\n",
              "          const dataTable =\n",
              "            await google.colab.kernel.invokeFunction('convertToInteractive',\n",
              "                                                     [key], {});\n",
              "          if (!dataTable) return;\n",
              "\n",
              "          const docLinkHtml = 'Like what you see? Visit the ' +\n",
              "            '<a target=\"_blank\" href=https://colab.research.google.com/notebooks/data_table.ipynb>data table notebook</a>'\n",
              "            + ' to learn more about interactive tables.';\n",
              "          element.innerHTML = '';\n",
              "          dataTable['output_type'] = 'display_data';\n",
              "          await google.colab.output.renderOutput(dataTable, element);\n",
              "          const docLink = document.createElement('div');\n",
              "          docLink.innerHTML = docLinkHtml;\n",
              "          element.appendChild(docLink);\n",
              "        }\n",
              "      </script>\n",
              "    </div>\n",
              "  </div>\n",
              "  "
            ]
          },
          "metadata": {}
        }
      ],
      "source": [
        "df=pd.read_csv('/content/drive/MyDrive/Colab Notebooks/firstOne/train.csv')\n",
        "df= df.drop(columns='id', axis=1) # id column is not necessary\n",
        "display(df.head(3))"
      ],
      "id": "30e6073a"
    },
    {
      "cell_type": "markdown",
      "metadata": {
        "id": "6f93dccc"
      },
      "source": [
        "##### Note: 1 means Fake news,0 means not Fake news"
      ],
      "id": "6f93dccc"
    },
    {
      "cell_type": "markdown",
      "metadata": {
        "id": "d7cb3eec"
      },
      "source": [
        "### Data Analysis"
      ],
      "id": "d7cb3eec"
    },
    {
      "cell_type": "code",
      "execution_count": 6,
      "metadata": {
        "colab": {
          "base_uri": "https://localhost:8080/"
        },
        "id": "e0b4de34",
        "outputId": "c9df5ada-4841-4feb-9e32-1589b50035f8"
      },
      "outputs": [
        {
          "output_type": "stream",
          "name": "stdout",
          "text": [
            "shape (20800, 4)\n",
            "<class 'pandas.core.frame.DataFrame'>\n",
            "RangeIndex: 20800 entries, 0 to 20799\n",
            "Data columns (total 4 columns):\n",
            " #   Column  Non-Null Count  Dtype \n",
            "---  ------  --------------  ----- \n",
            " 0   title   20242 non-null  object\n",
            " 1   author  18843 non-null  object\n",
            " 2   text    20761 non-null  object\n",
            " 3   label   20800 non-null  int64 \n",
            "dtypes: int64(1), object(3)\n",
            "memory usage: 650.1+ KB\n",
            "None\n"
          ]
        }
      ],
      "source": [
        "print('shape', df.shape)\n",
        "print(df.info())"
      ],
      "id": "e0b4de34"
    },
    {
      "cell_type": "code",
      "execution_count": 7,
      "metadata": {
        "colab": {
          "base_uri": "https://localhost:8080/"
        },
        "id": "57bc017e",
        "outputId": "9267ac10-5776-43b8-f186-bb4353916b98"
      },
      "outputs": [
        {
          "output_type": "execute_result",
          "data": {
            "text/plain": [
              "title      558\n",
              "author    1957\n",
              "text        39\n",
              "label        0\n",
              "dtype: int64"
            ]
          },
          "metadata": {},
          "execution_count": 7
        }
      ],
      "source": [
        "# null value check\n",
        "df.isnull().sum()"
      ],
      "id": "57bc017e"
    },
    {
      "cell_type": "code",
      "execution_count": 8,
      "metadata": {
        "colab": {
          "base_uri": "https://localhost:8080/"
        },
        "id": "ad5d778e",
        "outputId": "ab21c073-c5af-4ec4-b01e-8a9a7176288e"
      },
      "outputs": [
        {
          "output_type": "stream",
          "name": "stdout",
          "text": [
            "                                                   title  \\\n",
            "0      House Dem Aide: We Didn’t Even See Comey’s Let...   \n",
            "1      FLYNN: Hillary Clinton, Big Woman on Campus - ...   \n",
            "2                      Why the Truth Might Get You Fired   \n",
            "3      15 Civilians Killed In Single US Airstrike Hav...   \n",
            "4      Iranian woman jailed for fictional unpublished...   \n",
            "...                                                  ...   \n",
            "20795  Rapper T.I.: Trump a ’Poster Child For White S...   \n",
            "20796  N.F.L. Playoffs: Schedule, Matchups and Odds -...   \n",
            "20797  Macy’s Is Said to Receive Takeover Approach by...   \n",
            "20798  NATO, Russia To Hold Parallel Exercises In Bal...   \n",
            "20799                          What Keeps the F-35 Alive   \n",
            "\n",
            "                                          author  \\\n",
            "0                                  Darrell Lucus   \n",
            "1                                Daniel J. Flynn   \n",
            "2                             Consortiumnews.com   \n",
            "3                                Jessica Purkiss   \n",
            "4                                 Howard Portnoy   \n",
            "...                                          ...   \n",
            "20795                              Jerome Hudson   \n",
            "20796                           Benjamin Hoffman   \n",
            "20797  Michael J. de la Merced and Rachel Abrams   \n",
            "20798                                Alex Ansary   \n",
            "20799                              David Swanson   \n",
            "\n",
            "                                                    text  label  \n",
            "0      House Dem Aide: We Didn’t Even See Comey’s Let...      1  \n",
            "1      Ever get the feeling your life circles the rou...      0  \n",
            "2      Why the Truth Might Get You Fired October 29, ...      1  \n",
            "3      Videos 15 Civilians Killed In Single US Airstr...      1  \n",
            "4      Print \\nAn Iranian woman has been sentenced to...      1  \n",
            "...                                                  ...    ...  \n",
            "20795  Rapper T. I. unloaded on black celebrities who...      0  \n",
            "20796  When the Green Bay Packers lost to the Washing...      0  \n",
            "20797  The Macy’s of today grew from the union of sev...      0  \n",
            "20798  NATO, Russia To Hold Parallel Exercises In Bal...      1  \n",
            "20799    David Swanson is an author, activist, journa...      1  \n",
            "\n",
            "[20242 rows x 4 columns]\n"
          ]
        }
      ],
      "source": [
        "# missing = df.title.mean( )\n",
        "# data = df.dropna(subset=['title'])\n",
        "# print(data)\n",
        "# data = data[data['title'].notnull()]\n",
        "# print(data)\n",
        "data =df.dropna(axis=0, subset=('title', ))\n",
        "print(data)\n",
        "\n",
        "## making new data frame with dropped NA values\n",
        "# new_data = df.dropna(axis = 0, how ='title')\n",
        "  \n",
        "# # comparing sizes of data frames\n",
        "# print(\"Old data frame length:\", len(data), \"\\nNew data frame length:\", \n",
        "#        len(new_data), \"\\nNumber of rows with at least 1 NA value: \",\n",
        "#        (len(data)-len(new_data)))"
      ],
      "id": "ad5d778e"
    },
    {
      "cell_type": "code",
      "execution_count": 9,
      "metadata": {
        "colab": {
          "base_uri": "https://localhost:8080/"
        },
        "id": "99b39ad0",
        "outputId": "3602a1db-0631-47a8-8702-6659f012f874"
      },
      "outputs": [
        {
          "output_type": "execute_result",
          "data": {
            "text/plain": [
              "title     0\n",
              "author    0\n",
              "text      0\n",
              "label     0\n",
              "dtype: int64"
            ]
          },
          "metadata": {},
          "execution_count": 9
        }
      ],
      "source": [
        "# Replacing the null values with emtpy strings \n",
        "df = df.fillna('')\n",
        "df.isnull().sum()"
      ],
      "id": "99b39ad0"
    },
    {
      "cell_type": "markdown",
      "metadata": {
        "id": "22de893b"
      },
      "source": [
        "### Text preprocessing- on 'author' and 'title' column\n"
      ],
      "id": "22de893b"
    },
    {
      "cell_type": "code",
      "execution_count": 10,
      "metadata": {
        "colab": {
          "base_uri": "https://localhost:8080/"
        },
        "id": "b9b21770",
        "outputId": "f16cacf3-0fbc-4ed4-bbe3-d1c7e0ad63cb"
      },
      "outputs": [
        {
          "output_type": "execute_result",
          "data": {
            "text/plain": [
              "0        Darrell Lucus House Dem Aide: We Didn’t Even S...\n",
              "1        Daniel J. Flynn FLYNN: Hillary Clinton, Big Wo...\n",
              "2        Consortiumnews.com Why the Truth Might Get You...\n",
              "3        Jessica Purkiss 15 Civilians Killed In Single ...\n",
              "4        Howard Portnoy Iranian woman jailed for fictio...\n",
              "                               ...                        \n",
              "20795    Jerome Hudson Rapper T.I.: Trump a ’Poster Chi...\n",
              "20796    Benjamin Hoffman N.F.L. Playoffs: Schedule, Ma...\n",
              "20797    Michael J. de la Merced and Rachel Abrams Macy...\n",
              "20798    Alex Ansary NATO, Russia To Hold Parallel Exer...\n",
              "20799              David Swanson What Keeps the F-35 Alive\n",
              "Name: content, Length: 20800, dtype: object"
            ]
          },
          "metadata": {},
          "execution_count": 10
        }
      ],
      "source": [
        "#merging the author name and news title and make a new column\n",
        "df['content'] = df['author']+' '+df['title']\n",
        "df['content']"
      ],
      "id": "b9b21770"
    },
    {
      "cell_type": "markdown",
      "metadata": {
        "id": "8f17c961"
      },
      "source": [
        "### Now we will separate the data and label"
      ],
      "id": "8f17c961"
    },
    {
      "cell_type": "code",
      "execution_count": 11,
      "metadata": {
        "colab": {
          "base_uri": "https://localhost:8080/",
          "height": 234
        },
        "id": "2c3aeda4",
        "outputId": "6a49f7ab-717c-46df-ae3e-fc52077dfefb"
      },
      "outputs": [
        {
          "output_type": "display_data",
          "data": {
            "text/plain": [
              "0    Darrell Lucus House Dem Aide: We Didn’t Even S...\n",
              "1    Daniel J. Flynn FLYNN: Hillary Clinton, Big Wo...\n",
              "2    Consortiumnews.com Why the Truth Might Get You...\n",
              "3    Jessica Purkiss 15 Civilians Killed In Single ...\n",
              "4    Howard Portnoy Iranian woman jailed for fictio...\n",
              "Name: content, dtype: object"
            ]
          },
          "metadata": {}
        },
        {
          "output_type": "stream",
          "name": "stdout",
          "text": [
            "0    1\n",
            "1    0\n",
            "2    1\n",
            "3    1\n",
            "4    1\n",
            "Name: label, dtype: int64\n"
          ]
        }
      ],
      "source": [
        "#X = df.drop(columns='label', axis=1)\n",
        "# X=df['content']\n",
        "X=df['content']\n",
        "Y = df['label']\n",
        "display(X.head())\n",
        "print(Y.head())"
      ],
      "id": "2c3aeda4"
    },
    {
      "cell_type": "markdown",
      "metadata": {
        "id": "dcc4d7ea"
      },
      "source": [
        "#### Stemming and other preprocessing"
      ],
      "id": "dcc4d7ea"
    },
    {
      "cell_type": "code",
      "execution_count": 12,
      "metadata": {
        "colab": {
          "base_uri": "https://localhost:8080/"
        },
        "id": "0814df3c",
        "outputId": "c1b3153b-3358-4883-db67-e2e1b58e7bbf"
      },
      "outputs": [
        {
          "output_type": "execute_result",
          "data": {
            "text/plain": [
              "(20800, 5)"
            ]
          },
          "metadata": {},
          "execution_count": 12
        }
      ],
      "source": [
        "#take 5000 rows from df\n",
        "#df=df[:1000]\n",
        "#df.head()\n",
        "df.shape\n",
        "#df['text']"
      ],
      "id": "0814df3c"
    },
    {
      "cell_type": "code",
      "execution_count": 13,
      "metadata": {
        "colab": {
          "base_uri": "https://localhost:8080/"
        },
        "id": "GvDgQckZwLYA",
        "outputId": "847805b4-115e-42e7-985f-dc1a342dd4eb"
      },
      "outputs": [
        {
          "output_type": "stream",
          "name": "stdout",
          "text": [
            "[nltk_data] Downloading package stopwords to /root/nltk_data...\n",
            "[nltk_data]   Unzipping corpora/stopwords.zip.\n"
          ]
        },
        {
          "output_type": "execute_result",
          "data": {
            "text/plain": [
              "True"
            ]
          },
          "metadata": {},
          "execution_count": 13
        }
      ],
      "source": [
        "import nltk\n",
        "nltk.download('stopwords')"
      ],
      "id": "GvDgQckZwLYA"
    },
    {
      "cell_type": "code",
      "execution_count": 14,
      "metadata": {
        "id": "21d1f297"
      },
      "outputs": [],
      "source": [
        "# stemming \n",
        "ps = PorterStemmer()\n",
        "# corpus = []\n",
        "# for i in range(0, len(df)):\n",
        "#     review = re.sub('[^a-zA-Z]', ' ', df['content'][i]) # only the content column\n",
        "#     review = review.lower()\n",
        "#     review = review.split()\n",
        "    \n",
        "#     review = [ps.stem(word) for word in review if not word in stopwords.words('english')]\n",
        "#     review = ' '.join(review)\n",
        "#     corpus.append(review)\n",
        "\n",
        "def stemming(content):\n",
        "    stemmed_content = re.sub('[^a-zA-Z]',' ',content)\n",
        "    stemmed_content = stemmed_content.lower()\n",
        "    stemmed_content = stemmed_content.split()\n",
        "    stemmed_content = [ps.stem(word) for word in stemmed_content if not word in stopwords.words('english')]\n",
        "    stemmed_content = ' '.join(stemmed_content)\n",
        "    return stemmed_content\n",
        "    \n",
        "    \n",
        "df['content'] = df['content'].apply(stemming)"
      ],
      "id": "21d1f297"
    },
    {
      "cell_type": "code",
      "execution_count": 15,
      "metadata": {
        "colab": {
          "base_uri": "https://localhost:8080/"
        },
        "id": "ba4ddca2",
        "outputId": "bcb0c038-bd92-4e41-ad63-5367d79afebc"
      },
      "outputs": [
        {
          "output_type": "execute_result",
          "data": {
            "text/plain": [
              "0     darrel lucu hous dem aid even see comey letter...\n",
              "1     daniel j flynn flynn hillari clinton big woman...\n",
              "2                consortiumnew com truth might get fire\n",
              "3     jessica purkiss civilian kill singl us airstri...\n",
              "4     howard portnoy iranian woman jail fiction unpu...\n",
              "5     daniel nussbaum jacki mason hollywood would lo...\n",
              "6     life life luxuri elton john favorit shark pict...\n",
              "7     alissa j rubin beno hamon win french socialist...\n",
              "8     excerpt draft script donald trump q ampa black...\n",
              "9     megan twohey scott shane back channel plan ukr...\n",
              "10    aaron klein obama organ action partner soro li...\n",
              "11    chri tomlinson bbc comedi sketch real housew i...\n",
              "12    amando flavio russian research discov secret n...\n",
              "13           jason ditz us offici see link trump russia\n",
              "14    anotheranni ye paid govern troll social media ...\n",
              "15    jack william major leagu soccer argentin find ...\n",
              "16    michael corkeri staci cowley well fargo chief ...\n",
              "17    starkman anonym donor pay million releas every...\n",
              "18                                doc fbi close hillari\n",
              "19    jeff poor chuck todd buzzfe donald trump polit...\n",
              "Name: content, dtype: object"
            ]
          },
          "metadata": {},
          "execution_count": 15
        }
      ],
      "source": [
        "# df['content'][:5]\n",
        "df['content'][:20]\n",
        "#df.head()"
      ],
      "id": "ba4ddca2"
    },
    {
      "cell_type": "code",
      "execution_count": 16,
      "metadata": {
        "colab": {
          "base_uri": "https://localhost:8080/"
        },
        "id": "4b4931c0",
        "outputId": "c1f6fd04-1dba-4af4-eda9-6529002f15ea"
      },
      "outputs": [
        {
          "output_type": "stream",
          "name": "stdout",
          "text": [
            "['darrel lucu hous dem aid even see comey letter jason chaffetz tweet'\n",
            " 'daniel j flynn flynn hillari clinton big woman campu breitbart'\n",
            " 'consortiumnew com truth might get fire' ...\n",
            " 'michael j de la merc rachel abram maci said receiv takeov approach hudson bay new york time'\n",
            " 'alex ansari nato russia hold parallel exercis balkan'\n",
            " 'david swanson keep f aliv']\n"
          ]
        }
      ],
      "source": [
        "# Separating data and label\n",
        "X = df['content'].values\n",
        "y = df['label'].values\n",
        "X\n",
        "print(X)"
      ],
      "id": "4b4931c0"
    },
    {
      "cell_type": "markdown",
      "metadata": {
        "id": "57397b23"
      },
      "source": [
        "#### TfidfVectorizer"
      ],
      "id": "57397b23"
    },
    {
      "cell_type": "code",
      "execution_count": 17,
      "metadata": {
        "colab": {
          "base_uri": "https://localhost:8080/"
        },
        "id": "9688ddcd",
        "outputId": "26d7ca7d-582f-4a5a-c4c3-8373f391bd3d"
      },
      "outputs": [
        {
          "output_type": "stream",
          "name": "stdout",
          "text": [
            "(20800, 5000)\n",
            "[[0. 0. 0. ... 0. 0. 0.]\n",
            " [0. 0. 0. ... 0. 0. 0.]\n",
            " [0. 0. 0. ... 0. 0. 0.]\n",
            " ...\n",
            " [0. 0. 0. ... 0. 0. 0.]\n",
            " [0. 0. 0. ... 0. 0. 0.]\n",
            " [0. 0. 0. ... 0. 0. 0.]]\n"
          ]
        }
      ],
      "source": [
        " # i want to take 5000 feayures and (1,3) means features will be single,double or triple word\n",
        "tf= TfidfVectorizer(max_features=5000,ngram_range=(1,3)) \n",
        "X=tf.fit_transform(df['content']).toarray()\n",
        "print(X.shape)\n",
        "print(X)"
      ],
      "id": "9688ddcd"
    },
    {
      "cell_type": "markdown",
      "metadata": {
        "id": "34a544bc"
      },
      "source": [
        "#### check features"
      ],
      "id": "34a544bc"
    },
    {
      "cell_type": "code",
      "execution_count": 18,
      "metadata": {
        "colab": {
          "base_uri": "https://localhost:8080/"
        },
        "id": "553eafbc",
        "outputId": "24b462f6-6e28-4cfd-a0b6-683f045b5325"
      },
      "outputs": [
        {
          "output_type": "stream",
          "name": "stderr",
          "text": [
            "/usr/local/lib/python3.7/dist-packages/sklearn/utils/deprecation.py:87: FutureWarning: Function get_feature_names is deprecated; get_feature_names is deprecated in 1.0 and will be removed in 1.2. Please use get_feature_names_out instead.\n",
            "  warnings.warn(msg, category=FutureWarning)\n"
          ]
        },
        {
          "output_type": "execute_result",
          "data": {
            "text/plain": [
              "['aaron',\n",
              " 'aaron carrol',\n",
              " 'aaron kesel',\n",
              " 'aaron klein',\n",
              " 'aaron klein ali',\n",
              " 'abandon',\n",
              " 'abbi',\n",
              " 'abbi goodnough',\n",
              " 'abc',\n",
              " 'abduct']"
            ]
          },
          "metadata": {},
          "execution_count": 18
        }
      ],
      "source": [
        "tf.get_feature_names()[:10] # first 10 features"
      ],
      "id": "553eafbc"
    },
    {
      "cell_type": "code",
      "execution_count": 19,
      "metadata": {
        "colab": {
          "base_uri": "https://localhost:8080/"
        },
        "id": "4f53a268",
        "outputId": "8ffaee0f-4d6a-4a49-b9a2-21f3d86fc616"
      },
      "outputs": [
        {
          "output_type": "execute_result",
          "data": {
            "text/plain": [
              "{'analyzer': 'word',\n",
              " 'binary': False,\n",
              " 'decode_error': 'strict',\n",
              " 'dtype': numpy.float64,\n",
              " 'encoding': 'utf-8',\n",
              " 'input': 'content',\n",
              " 'lowercase': True,\n",
              " 'max_df': 1.0,\n",
              " 'max_features': 5000,\n",
              " 'min_df': 1,\n",
              " 'ngram_range': (1, 3),\n",
              " 'norm': 'l2',\n",
              " 'preprocessor': None,\n",
              " 'smooth_idf': True,\n",
              " 'stop_words': None,\n",
              " 'strip_accents': None,\n",
              " 'sublinear_tf': False,\n",
              " 'token_pattern': '(?u)\\\\b\\\\w\\\\w+\\\\b',\n",
              " 'tokenizer': None,\n",
              " 'use_idf': True,\n",
              " 'vocabulary': None}"
            ]
          },
          "metadata": {},
          "execution_count": 19
        }
      ],
      "source": [
        "tf.get_params()"
      ],
      "id": "4f53a268"
    },
    {
      "cell_type": "code",
      "execution_count": 20,
      "metadata": {
        "id": "76MQ18dCQ3NZ"
      },
      "outputs": [],
      "source": [
        "verctor = TfidfVectorizer(stop_words='english', max_df=0.7)"
      ],
      "id": "76MQ18dCQ3NZ"
    },
    {
      "cell_type": "code",
      "execution_count": 21,
      "metadata": {
        "id": "_bZPlf-3RR8-"
      },
      "outputs": [],
      "source": [
        "# #fit and transform\n",
        "# tf_train = vector.fit_transform(X_train)\n",
        "# tf_test = vector.transform(X_test)"
      ],
      "id": "_bZPlf-3RR8-"
    },
    {
      "cell_type": "markdown",
      "metadata": {
        "id": "878851ed"
      },
      "source": [
        "### Train test split"
      ],
      "id": "878851ed"
    },
    {
      "cell_type": "code",
      "execution_count": 22,
      "metadata": {
        "id": "572e823b"
      },
      "outputs": [],
      "source": [
        "X_train, X_test, y_train, y_test = train_test_split(X, Y, test_size=0.20, random_state=42)"
      ],
      "id": "572e823b"
    },
    {
      "cell_type": "code",
      "execution_count": 23,
      "metadata": {
        "id": "uZEqzthfZwO-"
      },
      "outputs": [],
      "source": [
        "# X_train.head()"
      ],
      "id": "uZEqzthfZwO-"
    },
    {
      "cell_type": "code",
      "execution_count": 23,
      "metadata": {
        "id": "EqQY6ouNaGBX"
      },
      "outputs": [],
      "source": [
        ""
      ],
      "id": "EqQY6ouNaGBX"
    },
    {
      "cell_type": "code",
      "execution_count": 24,
      "metadata": {
        "id": "SxQBoSlCzVC-"
      },
      "outputs": [],
      "source": [
        "# print(X_train.shape)\n",
        "# print(X_test.shape)\n",
        "# print(y_test.shape)"
      ],
      "id": "SxQBoSlCzVC-"
    },
    {
      "cell_type": "code",
      "execution_count": 25,
      "metadata": {
        "colab": {
          "base_uri": "https://localhost:8080/",
          "height": 352
        },
        "id": "b528bd63",
        "outputId": "c6e02612-596b-4e59-eca8-cf1d2bb3f876"
      },
      "outputs": [
        {
          "output_type": "stream",
          "name": "stderr",
          "text": [
            "/usr/local/lib/python3.7/dist-packages/sklearn/utils/deprecation.py:87: FutureWarning: Function get_feature_names is deprecated; get_feature_names is deprecated in 1.0 and will be removed in 1.2. Please use get_feature_names_out instead.\n",
            "  warnings.warn(msg, category=FutureWarning)\n"
          ]
        },
        {
          "output_type": "execute_result",
          "data": {
            "text/plain": [
              "   aaron  aaron carrol  aaron kesel  aaron klein  aaron klein ali  abandon  \\\n",
              "0    0.0           0.0          0.0          0.0              0.0      0.0   \n",
              "1    0.0           0.0          0.0          0.0              0.0      0.0   \n",
              "2    0.0           0.0          0.0          0.0              0.0      0.0   \n",
              "3    0.0           0.0          0.0          0.0              0.0      0.0   \n",
              "4    0.0           0.0          0.0          0.0              0.0      0.0   \n",
              "\n",
              "   abbi  abbi goodnough  abc  abduct  ...  zika  zika viru  zionist  zone  \\\n",
              "0   0.0             0.0  0.0     0.0  ...   0.0        0.0      0.0   0.0   \n",
              "1   0.0             0.0  0.0     0.0  ...   0.0        0.0      0.0   0.0   \n",
              "2   0.0             0.0  0.0     0.0  ...   0.0        0.0      0.0   0.0   \n",
              "3   0.0             0.0  0.0     0.0  ...   0.0        0.0      0.0   0.0   \n",
              "4   0.0             0.0  0.0     0.0  ...   0.0        0.0      0.0   0.0   \n",
              "\n",
              "   zraick  zraick sandra  zraick sandra stevenson   zu  zuckerberg  zuess  \n",
              "0     0.0            0.0                      0.0  0.0         0.0    0.0  \n",
              "1     0.0            0.0                      0.0  0.0         0.0    0.0  \n",
              "2     0.0            0.0                      0.0  0.0         0.0    0.0  \n",
              "3     0.0            0.0                      0.0  0.0         0.0    0.0  \n",
              "4     0.0            0.0                      0.0  0.0         0.0    0.0  \n",
              "\n",
              "[5 rows x 5000 columns]"
            ],
            "text/html": [
              "\n",
              "  <div id=\"df-866147aa-3b89-4b88-8669-b6af2f9d0eb0\">\n",
              "    <div class=\"colab-df-container\">\n",
              "      <div>\n",
              "<style scoped>\n",
              "    .dataframe tbody tr th:only-of-type {\n",
              "        vertical-align: middle;\n",
              "    }\n",
              "\n",
              "    .dataframe tbody tr th {\n",
              "        vertical-align: top;\n",
              "    }\n",
              "\n",
              "    .dataframe thead th {\n",
              "        text-align: right;\n",
              "    }\n",
              "</style>\n",
              "<table border=\"1\" class=\"dataframe\">\n",
              "  <thead>\n",
              "    <tr style=\"text-align: right;\">\n",
              "      <th></th>\n",
              "      <th>aaron</th>\n",
              "      <th>aaron carrol</th>\n",
              "      <th>aaron kesel</th>\n",
              "      <th>aaron klein</th>\n",
              "      <th>aaron klein ali</th>\n",
              "      <th>abandon</th>\n",
              "      <th>abbi</th>\n",
              "      <th>abbi goodnough</th>\n",
              "      <th>abc</th>\n",
              "      <th>abduct</th>\n",
              "      <th>...</th>\n",
              "      <th>zika</th>\n",
              "      <th>zika viru</th>\n",
              "      <th>zionist</th>\n",
              "      <th>zone</th>\n",
              "      <th>zraick</th>\n",
              "      <th>zraick sandra</th>\n",
              "      <th>zraick sandra stevenson</th>\n",
              "      <th>zu</th>\n",
              "      <th>zuckerberg</th>\n",
              "      <th>zuess</th>\n",
              "    </tr>\n",
              "  </thead>\n",
              "  <tbody>\n",
              "    <tr>\n",
              "      <th>0</th>\n",
              "      <td>0.0</td>\n",
              "      <td>0.0</td>\n",
              "      <td>0.0</td>\n",
              "      <td>0.0</td>\n",
              "      <td>0.0</td>\n",
              "      <td>0.0</td>\n",
              "      <td>0.0</td>\n",
              "      <td>0.0</td>\n",
              "      <td>0.0</td>\n",
              "      <td>0.0</td>\n",
              "      <td>...</td>\n",
              "      <td>0.0</td>\n",
              "      <td>0.0</td>\n",
              "      <td>0.0</td>\n",
              "      <td>0.0</td>\n",
              "      <td>0.0</td>\n",
              "      <td>0.0</td>\n",
              "      <td>0.0</td>\n",
              "      <td>0.0</td>\n",
              "      <td>0.0</td>\n",
              "      <td>0.0</td>\n",
              "    </tr>\n",
              "    <tr>\n",
              "      <th>1</th>\n",
              "      <td>0.0</td>\n",
              "      <td>0.0</td>\n",
              "      <td>0.0</td>\n",
              "      <td>0.0</td>\n",
              "      <td>0.0</td>\n",
              "      <td>0.0</td>\n",
              "      <td>0.0</td>\n",
              "      <td>0.0</td>\n",
              "      <td>0.0</td>\n",
              "      <td>0.0</td>\n",
              "      <td>...</td>\n",
              "      <td>0.0</td>\n",
              "      <td>0.0</td>\n",
              "      <td>0.0</td>\n",
              "      <td>0.0</td>\n",
              "      <td>0.0</td>\n",
              "      <td>0.0</td>\n",
              "      <td>0.0</td>\n",
              "      <td>0.0</td>\n",
              "      <td>0.0</td>\n",
              "      <td>0.0</td>\n",
              "    </tr>\n",
              "    <tr>\n",
              "      <th>2</th>\n",
              "      <td>0.0</td>\n",
              "      <td>0.0</td>\n",
              "      <td>0.0</td>\n",
              "      <td>0.0</td>\n",
              "      <td>0.0</td>\n",
              "      <td>0.0</td>\n",
              "      <td>0.0</td>\n",
              "      <td>0.0</td>\n",
              "      <td>0.0</td>\n",
              "      <td>0.0</td>\n",
              "      <td>...</td>\n",
              "      <td>0.0</td>\n",
              "      <td>0.0</td>\n",
              "      <td>0.0</td>\n",
              "      <td>0.0</td>\n",
              "      <td>0.0</td>\n",
              "      <td>0.0</td>\n",
              "      <td>0.0</td>\n",
              "      <td>0.0</td>\n",
              "      <td>0.0</td>\n",
              "      <td>0.0</td>\n",
              "    </tr>\n",
              "    <tr>\n",
              "      <th>3</th>\n",
              "      <td>0.0</td>\n",
              "      <td>0.0</td>\n",
              "      <td>0.0</td>\n",
              "      <td>0.0</td>\n",
              "      <td>0.0</td>\n",
              "      <td>0.0</td>\n",
              "      <td>0.0</td>\n",
              "      <td>0.0</td>\n",
              "      <td>0.0</td>\n",
              "      <td>0.0</td>\n",
              "      <td>...</td>\n",
              "      <td>0.0</td>\n",
              "      <td>0.0</td>\n",
              "      <td>0.0</td>\n",
              "      <td>0.0</td>\n",
              "      <td>0.0</td>\n",
              "      <td>0.0</td>\n",
              "      <td>0.0</td>\n",
              "      <td>0.0</td>\n",
              "      <td>0.0</td>\n",
              "      <td>0.0</td>\n",
              "    </tr>\n",
              "    <tr>\n",
              "      <th>4</th>\n",
              "      <td>0.0</td>\n",
              "      <td>0.0</td>\n",
              "      <td>0.0</td>\n",
              "      <td>0.0</td>\n",
              "      <td>0.0</td>\n",
              "      <td>0.0</td>\n",
              "      <td>0.0</td>\n",
              "      <td>0.0</td>\n",
              "      <td>0.0</td>\n",
              "      <td>0.0</td>\n",
              "      <td>...</td>\n",
              "      <td>0.0</td>\n",
              "      <td>0.0</td>\n",
              "      <td>0.0</td>\n",
              "      <td>0.0</td>\n",
              "      <td>0.0</td>\n",
              "      <td>0.0</td>\n",
              "      <td>0.0</td>\n",
              "      <td>0.0</td>\n",
              "      <td>0.0</td>\n",
              "      <td>0.0</td>\n",
              "    </tr>\n",
              "  </tbody>\n",
              "</table>\n",
              "<p>5 rows × 5000 columns</p>\n",
              "</div>\n",
              "      <button class=\"colab-df-convert\" onclick=\"convertToInteractive('df-866147aa-3b89-4b88-8669-b6af2f9d0eb0')\"\n",
              "              title=\"Convert this dataframe to an interactive table.\"\n",
              "              style=\"display:none;\">\n",
              "        \n",
              "  <svg xmlns=\"http://www.w3.org/2000/svg\" height=\"24px\"viewBox=\"0 0 24 24\"\n",
              "       width=\"24px\">\n",
              "    <path d=\"M0 0h24v24H0V0z\" fill=\"none\"/>\n",
              "    <path d=\"M18.56 5.44l.94 2.06.94-2.06 2.06-.94-2.06-.94-.94-2.06-.94 2.06-2.06.94zm-11 1L8.5 8.5l.94-2.06 2.06-.94-2.06-.94L8.5 2.5l-.94 2.06-2.06.94zm10 10l.94 2.06.94-2.06 2.06-.94-2.06-.94-.94-2.06-.94 2.06-2.06.94z\"/><path d=\"M17.41 7.96l-1.37-1.37c-.4-.4-.92-.59-1.43-.59-.52 0-1.04.2-1.43.59L10.3 9.45l-7.72 7.72c-.78.78-.78 2.05 0 2.83L4 21.41c.39.39.9.59 1.41.59.51 0 1.02-.2 1.41-.59l7.78-7.78 2.81-2.81c.8-.78.8-2.07 0-2.86zM5.41 20L4 18.59l7.72-7.72 1.47 1.35L5.41 20z\"/>\n",
              "  </svg>\n",
              "      </button>\n",
              "      \n",
              "  <style>\n",
              "    .colab-df-container {\n",
              "      display:flex;\n",
              "      flex-wrap:wrap;\n",
              "      gap: 12px;\n",
              "    }\n",
              "\n",
              "    .colab-df-convert {\n",
              "      background-color: #E8F0FE;\n",
              "      border: none;\n",
              "      border-radius: 50%;\n",
              "      cursor: pointer;\n",
              "      display: none;\n",
              "      fill: #1967D2;\n",
              "      height: 32px;\n",
              "      padding: 0 0 0 0;\n",
              "      width: 32px;\n",
              "    }\n",
              "\n",
              "    .colab-df-convert:hover {\n",
              "      background-color: #E2EBFA;\n",
              "      box-shadow: 0px 1px 2px rgba(60, 64, 67, 0.3), 0px 1px 3px 1px rgba(60, 64, 67, 0.15);\n",
              "      fill: #174EA6;\n",
              "    }\n",
              "\n",
              "    [theme=dark] .colab-df-convert {\n",
              "      background-color: #3B4455;\n",
              "      fill: #D2E3FC;\n",
              "    }\n",
              "\n",
              "    [theme=dark] .colab-df-convert:hover {\n",
              "      background-color: #434B5C;\n",
              "      box-shadow: 0px 1px 3px 1px rgba(0, 0, 0, 0.15);\n",
              "      filter: drop-shadow(0px 1px 2px rgba(0, 0, 0, 0.3));\n",
              "      fill: #FFFFFF;\n",
              "    }\n",
              "  </style>\n",
              "\n",
              "      <script>\n",
              "        const buttonEl =\n",
              "          document.querySelector('#df-866147aa-3b89-4b88-8669-b6af2f9d0eb0 button.colab-df-convert');\n",
              "        buttonEl.style.display =\n",
              "          google.colab.kernel.accessAllowed ? 'block' : 'none';\n",
              "\n",
              "        async function convertToInteractive(key) {\n",
              "          const element = document.querySelector('#df-866147aa-3b89-4b88-8669-b6af2f9d0eb0');\n",
              "          const dataTable =\n",
              "            await google.colab.kernel.invokeFunction('convertToInteractive',\n",
              "                                                     [key], {});\n",
              "          if (!dataTable) return;\n",
              "\n",
              "          const docLinkHtml = 'Like what you see? Visit the ' +\n",
              "            '<a target=\"_blank\" href=https://colab.research.google.com/notebooks/data_table.ipynb>data table notebook</a>'\n",
              "            + ' to learn more about interactive tables.';\n",
              "          element.innerHTML = '';\n",
              "          dataTable['output_type'] = 'display_data';\n",
              "          await google.colab.output.renderOutput(dataTable, element);\n",
              "          const docLink = document.createElement('div');\n",
              "          docLink.innerHTML = docLinkHtml;\n",
              "          element.appendChild(docLink);\n",
              "        }\n",
              "      </script>\n",
              "    </div>\n",
              "  </div>\n",
              "  "
            ]
          },
          "metadata": {},
          "execution_count": 25
        }
      ],
      "source": [
        "count_df = pd.DataFrame(X, columns=tf.get_feature_names())\n",
        "count_df.head()"
      ],
      "id": "b528bd63"
    },
    {
      "cell_type": "code",
      "execution_count": 26,
      "metadata": {
        "id": "0ACQSjYJX94v"
      },
      "outputs": [],
      "source": [
        "# X_train, X_test, y_train, y_test = train_test_split(df['content'], y, test_size=0.20, random_state=42)"
      ],
      "id": "0ACQSjYJX94v"
    },
    {
      "cell_type": "markdown",
      "metadata": {
        "id": "fe449427"
      },
      "source": [
        "### Algorithms"
      ],
      "id": "fe449427"
    },
    {
      "cell_type": "markdown",
      "metadata": {
        "id": "cf4b1dc1"
      },
      "source": [
        "#### 1. Multinomial NB"
      ],
      "id": "cf4b1dc1"
    },
    {
      "cell_type": "code",
      "execution_count": 27,
      "metadata": {
        "colab": {
          "base_uri": "https://localhost:8080/",
          "height": 353
        },
        "id": "606399a2",
        "outputId": "0a1bb02c-c4ee-4dcb-ed0a-3e7b08a8ab35",
        "scrolled": true
      },
      "outputs": [
        {
          "output_type": "stream",
          "name": "stdout",
          "text": [
            "MNB accuracy_score 0.9632211538461538\n"
          ]
        },
        {
          "output_type": "stream",
          "name": "stderr",
          "text": [
            "/usr/local/lib/python3.7/dist-packages/sklearn/utils/deprecation.py:87: FutureWarning: Function plot_confusion_matrix is deprecated; Function `plot_confusion_matrix` is deprecated in 1.0 and will be removed in 1.2. Use one of the class methods: ConfusionMatrixDisplay.from_predictions or ConfusionMatrixDisplay.from_estimator.\n",
            "  warnings.warn(msg, category=FutureWarning)\n"
          ]
        },
        {
          "output_type": "display_data",
          "data": {
            "text/plain": [
              "<Figure size 432x288 with 2 Axes>"
            ],
            "image/png": "[encoded data removed]"
          },
          "metadata": {
            "needs_background": "light"
          }
        }
      ],
      "source": [
        "clf=MultinomialNB()\n",
        "clf.fit(X_train,y_train)\n",
        "pred=clf.predict(X_test)\n",
        "MNB_accuracy=metrics.accuracy_score(y_test,pred)\n",
        "print('MNB accuracy_score',MNB_accuracy)\n",
        "\n",
        "plot_confusion_matrix(clf,X_test,y_test,display_labels=['fake','real'],cmap='Blues')\n",
        "plt.show()"
      ],
      "id": "606399a2"
    },
    {
      "cell_type": "markdown",
      "metadata": {
        "id": "b5ec8b79"
      },
      "source": [
        "#### 1.1 multinomialNB with hyperparameter"
      ],
      "id": "b5ec8b79"
    },
    {
      "cell_type": "code",
      "execution_count": 28,
      "metadata": {
        "colab": {
          "base_uri": "https://localhost:8080/"
        },
        "id": "ebf03054",
        "outputId": "9fcbd624-63c8-4a23-b720-71f30d453b53"
      },
      "outputs": [
        {
          "output_type": "execute_result",
          "data": {
            "text/plain": [
              "GridSearchCV(cv=5, estimator=MultinomialNB(), n_jobs=-1,\n",
              "             param_grid={'alpha': [0.01, 0.1, 0.5, 1.0, 10.0]},\n",
              "             scoring='accuracy')"
            ]
          },
          "metadata": {},
          "execution_count": 28
        }
      ],
      "source": [
        "alpha=[0.01, 0.1, 0.5, 1.0, 10.0, ]\n",
        "parameters={'alpha': alpha }\n",
        "\n",
        "clf_gs=MultinomialNB()\n",
        "\n",
        "gscv=GridSearchCV(estimator=clf_gs,\n",
        "                 param_grid=parameters,\n",
        "                 scoring='accuracy',\n",
        "                 cv=5,\n",
        "                 n_jobs=-1)\n",
        "\n",
        "gscv=gscv.fit(X_train,y_train)\n",
        "gscv\n",
        "         "
      ],
      "id": "ebf03054"
    },
    {
      "cell_type": "code",
      "execution_count": 29,
      "metadata": {
        "colab": {
          "base_uri": "https://localhost:8080/"
        },
        "id": "ba40c854",
        "outputId": "268f89c7-dc61-4324-dfdd-8e030ccfba64"
      },
      "outputs": [
        {
          "output_type": "execute_result",
          "data": {
            "text/plain": [
              "{'alpha': 1.0}"
            ]
          },
          "metadata": {},
          "execution_count": 29
        }
      ],
      "source": [
        "gscv.best_params_"
      ],
      "id": "ba40c854"
    },
    {
      "cell_type": "code",
      "execution_count": 30,
      "metadata": {
        "colab": {
          "base_uri": "https://localhost:8080/",
          "height": 353
        },
        "id": "2b848dd0",
        "outputId": "d3d8f479-e3fd-4645-aec1-a918058d4557"
      },
      "outputs": [
        {
          "output_type": "stream",
          "name": "stdout",
          "text": [
            "Accuracy_tuning 0.9632211538461538\n"
          ]
        },
        {
          "output_type": "stream",
          "name": "stderr",
          "text": [
            "/usr/local/lib/python3.7/dist-packages/sklearn/utils/deprecation.py:87: FutureWarning: Function plot_confusion_matrix is deprecated; Function `plot_confusion_matrix` is deprecated in 1.0 and will be removed in 1.2. Use one of the class methods: ConfusionMatrixDisplay.from_predictions or ConfusionMatrixDisplay.from_estimator.\n",
            "  warnings.warn(msg, category=FutureWarning)\n"
          ]
        },
        {
          "output_type": "display_data",
          "data": {
            "text/plain": [
              "<Figure size 432x288 with 2 Axes>"
            ],
            "image/png": "[encoded data removed]"
          },
          "metadata": {
            "needs_background": "light"
          }
        }
      ],
      "source": [
        "y_pred_gs =gscv.predict(X_test) \n",
        "MNB_t_accuracy=metrics.accuracy_score(y_test,y_pred_gs)\n",
        "print('Accuracy_tuning',MNB_t_accuracy)\n",
        "\n",
        "plot_confusion_matrix(gscv,X_test,y_test,display_labels=['fake','real'],cmap='Blues')\n",
        "plt.show()\n"
      ],
      "id": "2b848dd0"
    },
    {
      "cell_type": "markdown",
      "metadata": {
        "id": "6b725d6c"
      },
      "source": [
        "#### 2. passive aggresive classifier algorithm"
      ],
      "id": "6b725d6c"
    },
    {
      "cell_type": "code",
      "execution_count": 31,
      "metadata": {
        "colab": {
          "base_uri": "https://localhost:8080/",
          "height": 390
        },
        "id": "7e5493af",
        "outputId": "3f91816a-ef9b-4b93-c7a6-d50518594a8e"
      },
      "outputs": [
        {
          "output_type": "stream",
          "name": "stderr",
          "text": [
            "/usr/local/lib/python3.7/dist-packages/sklearn/linear_model/_stochastic_gradient.py:700: ConvergenceWarning: Maximum number of iteration reached before convergence. Consider increasing max_iter to improve the fit.\n",
            "  ConvergenceWarning,\n",
            "/usr/local/lib/python3.7/dist-packages/sklearn/utils/deprecation.py:87: FutureWarning: Function plot_confusion_matrix is deprecated; Function `plot_confusion_matrix` is deprecated in 1.0 and will be removed in 1.2. Use one of the class methods: ConfusionMatrixDisplay.from_predictions or ConfusionMatrixDisplay.from_estimator.\n",
            "  warnings.warn(msg, category=FutureWarning)\n"
          ]
        },
        {
          "output_type": "stream",
          "name": "stdout",
          "text": [
            "Passive_agg_accuracy_score 0.9932692307692308\n"
          ]
        },
        {
          "output_type": "display_data",
          "data": {
            "text/plain": [
              "<Figure size 432x288 with 2 Axes>"
            ],
            "image/png": "[encoded data removed]"
          },
          "metadata": {
            "needs_background": "light"
          }
        }
      ],
      "source": [
        "clf = PassiveAggressiveClassifier(max_iter=10,random_state=42)\n",
        "clf.fit(X_train,y_train)\n",
        "pred=clf.predict(X_test)\n",
        "pass_agg=metrics.accuracy_score(y_test,pred)\n",
        "print('Passive_agg_accuracy_score',pass_agg)\n",
        "\n",
        "plot_confusion_matrix(clf,X_test,y_test,display_labels=['fake','real'],cmap='Blues')\n",
        "plt.show()"
      ],
      "id": "7e5493af"
    },
    {
      "cell_type": "markdown",
      "metadata": {
        "id": "ebec0a07"
      },
      "source": [
        "#### 2.1 with tuning"
      ],
      "id": "ebec0a07"
    },
    {
      "cell_type": "code",
      "execution_count": 32,
      "metadata": {
        "colab": {
          "base_uri": "https://localhost:8080/"
        },
        "id": "f73ad361",
        "outputId": "5c4896a0-e469-4a5a-8453-5767ffcda47c"
      },
      "outputs": [
        {
          "output_type": "execute_result",
          "data": {
            "text/plain": [
              "GridSearchCV(cv=5, estimator=PassiveAggressiveClassifier(), n_jobs=-1,\n",
              "             param_grid={'max_iter': [50, 100, 200], 'random_state': [42],\n",
              "                         'shuffle': [True]},\n",
              "             scoring='accuracy')"
            ]
          },
          "metadata": {},
          "execution_count": 32
        }
      ],
      "source": [
        "max_iter=[50,100,200]\n",
        "shuffle=[True]\n",
        "random_state=[42]\n",
        "\n",
        "parameters={'max_iter': max_iter,\n",
        "           'shuffle':shuffle,\n",
        "           'random_state':random_state}\n",
        "\n",
        "clf_gs=PassiveAggressiveClassifier()\n",
        "\n",
        "gscv=GridSearchCV(estimator=clf_gs,\n",
        "                 param_grid=parameters,\n",
        "                 scoring='accuracy',\n",
        "                 cv=5,\n",
        "                 n_jobs=-1)\n",
        "\n",
        "gscv2=gscv.fit(X_train,y_train)\n",
        "gscv2\n",
        "         "
      ],
      "id": "f73ad361"
    },
    {
      "cell_type": "code",
      "execution_count": 33,
      "metadata": {
        "colab": {
          "base_uri": "https://localhost:8080/"
        },
        "id": "89dad88e",
        "outputId": "c50d22b2-8d06-469a-d77f-a8957eb3838f"
      },
      "outputs": [
        {
          "output_type": "execute_result",
          "data": {
            "text/plain": [
              "{'max_iter': 50, 'random_state': 42, 'shuffle': True}"
            ]
          },
          "metadata": {},
          "execution_count": 33
        }
      ],
      "source": [
        "gscv2.best_params_"
      ],
      "id": "89dad88e"
    },
    {
      "cell_type": "code",
      "execution_count": 34,
      "metadata": {
        "colab": {
          "base_uri": "https://localhost:8080/",
          "height": 353
        },
        "id": "e06a57c0",
        "outputId": "d2cf531a-99de-4b76-aaac-b7bd1558e29d"
      },
      "outputs": [
        {
          "output_type": "stream",
          "name": "stdout",
          "text": [
            "Accuracy_with_tuning 0.9932692307692308\n"
          ]
        },
        {
          "output_type": "stream",
          "name": "stderr",
          "text": [
            "/usr/local/lib/python3.7/dist-packages/sklearn/utils/deprecation.py:87: FutureWarning: Function plot_confusion_matrix is deprecated; Function `plot_confusion_matrix` is deprecated in 1.0 and will be removed in 1.2. Use one of the class methods: ConfusionMatrixDisplay.from_predictions or ConfusionMatrixDisplay.from_estimator.\n",
            "  warnings.warn(msg, category=FutureWarning)\n"
          ]
        },
        {
          "output_type": "display_data",
          "data": {
            "text/plain": [
              "<Figure size 432x288 with 2 Axes>"
            ],
            "image/png": "[encoded data removed]"
          },
          "metadata": {
            "needs_background": "light"
          }
        }
      ],
      "source": [
        "y_pred_gs =gscv2.predict(X_test) \n",
        "pass_agg_t=metrics.accuracy_score(y_test,y_pred_gs)\n",
        "print('Accuracy_with_tuning',pass_agg_t)\n",
        "\n",
        "plot_confusion_matrix(gscv,X_test,y_test,display_labels=['fake','real'],cmap='Blues')\n",
        "plt.show()\n"
      ],
      "id": "e06a57c0"
    },
    {
      "cell_type": "markdown",
      "metadata": {
        "id": "a8859683"
      },
      "source": [
        "#### 3. Logistic regression algorithm"
      ],
      "id": "a8859683"
    },
    {
      "cell_type": "code",
      "execution_count": 35,
      "metadata": {
        "colab": {
          "base_uri": "https://localhost:8080/",
          "height": 353
        },
        "id": "50c2db48",
        "outputId": "0ff4aff3-86d4-4219-c824-8e1489094289"
      },
      "outputs": [
        {
          "output_type": "stream",
          "name": "stdout",
          "text": [
            "logistic reg. accuracy_score 0.9836538461538461\n"
          ]
        },
        {
          "output_type": "stream",
          "name": "stderr",
          "text": [
            "/usr/local/lib/python3.7/dist-packages/sklearn/utils/deprecation.py:87: FutureWarning: Function plot_confusion_matrix is deprecated; Function `plot_confusion_matrix` is deprecated in 1.0 and will be removed in 1.2. Use one of the class methods: ConfusionMatrixDisplay.from_predictions or ConfusionMatrixDisplay.from_estimator.\n",
            "  warnings.warn(msg, category=FutureWarning)\n"
          ]
        },
        {
          "output_type": "display_data",
          "data": {
            "text/plain": [
              "<Figure size 432x288 with 2 Axes>"
            ],
            "image/png": "[encoded data removed]"
          },
          "metadata": {
            "needs_background": "light"
          }
        }
      ],
      "source": [
        "clf_log= LogisticRegression()\n",
        "\n",
        "clf_log.fit(X_train,y_train)\n",
        "pred=clf_log.predict(X_test)\n",
        "log_r_accuracy=metrics.accuracy_score(y_test,pred)\n",
        "print('logistic reg. accuracy_score',log_r_accuracy)\n",
        "\n",
        "plot_confusion_matrix(clf_log,X_test,y_test,display_labels=['fake','real'],cmap='Blues')\n",
        "plt.show()"
      ],
      "id": "50c2db48"
    },
    {
      "cell_type": "code",
      "execution_count": 36,
      "metadata": {
        "id": "4eed9107"
      },
      "outputs": [],
      "source": [
        "# Support Vector Classification :\n",
        "\n",
        "# from sklearn import svm\n",
        "# SvcModel=svm.SVC( )\n",
        "# SvcModel.fit(X_train,y_train)\n",
        "# pred=SvcModel.predict(X_test)\n",
        "# SVCmodel=metrics.accuracy_score(y_test,pred)\n",
        "# print('SVCmodel accuracy_score: ',SVCmodel)\n"
      ],
      "id": "4eed9107"
    },
    {
      "cell_type": "markdown",
      "metadata": {
        "id": "7a19965d"
      },
      "source": [
        "RandomForestClassifier:"
      ],
      "id": "7a19965d"
    },
    {
      "cell_type": "code",
      "execution_count": 37,
      "metadata": {
        "colab": {
          "base_uri": "https://localhost:8080/"
        },
        "id": "ae75d96d",
        "outputId": "2478cb19-d195-4b72-c0a9-4165eee95d64"
      },
      "outputs": [
        {
          "output_type": "execute_result",
          "data": {
            "text/plain": [
              "RandomForestClassifier()"
            ]
          },
          "metadata": {},
          "execution_count": 37
        }
      ],
      "source": [
        "from sklearn.ensemble import RandomForestClassifier\n",
        "Rfcl = RandomForestClassifier()\n",
        "Rfcl.fit(X_train,y_train)"
      ],
      "id": "ae75d96d"
    },
    {
      "cell_type": "code",
      "execution_count": 38,
      "metadata": {
        "colab": {
          "base_uri": "https://localhost:8080/"
        },
        "id": "2a3eaba5",
        "outputId": "810bf02c-7c12-4927-9e7c-aa229e91f718"
      },
      "outputs": [
        {
          "output_type": "stream",
          "name": "stdout",
          "text": [
            "RFCLmodel accuracy_score:  0.9930288461538461\n"
          ]
        }
      ],
      "source": [
        "pred1=Rfcl.predict(X_test)\n",
        "RFCLmodel = metrics.accuracy_score(y_test,pred1)\n",
        "print('RFCLmodel accuracy_score: ',RFCLmodel)"
      ],
      "id": "2a3eaba5"
    },
    {
      "cell_type": "code",
      "execution_count": 39,
      "metadata": {
        "colab": {
          "base_uri": "https://localhost:8080/",
          "height": 335
        },
        "id": "zj6VxxDiew-m",
        "outputId": "1a1e6577-befb-46bc-b756-5efb4834c77e"
      },
      "outputs": [
        {
          "output_type": "stream",
          "name": "stderr",
          "text": [
            "/usr/local/lib/python3.7/dist-packages/sklearn/utils/deprecation.py:87: FutureWarning: Function plot_confusion_matrix is deprecated; Function `plot_confusion_matrix` is deprecated in 1.0 and will be removed in 1.2. Use one of the class methods: ConfusionMatrixDisplay.from_predictions or ConfusionMatrixDisplay.from_estimator.\n",
            "  warnings.warn(msg, category=FutureWarning)\n"
          ]
        },
        {
          "output_type": "display_data",
          "data": {
            "text/plain": [
              "<Figure size 432x288 with 2 Axes>"
            ],
            "image/png": "[encoded data removed]"
          },
          "metadata": {
            "needs_background": "light"
          }
        }
      ],
      "source": [
        "plot_confusion_matrix(Rfcl,X_test,y_test,display_labels=['fake','real'],cmap='Blues')\n",
        "plt.show()"
      ],
      "id": "zj6VxxDiew-m"
    },
    {
      "cell_type": "markdown",
      "metadata": {
        "id": "7d93d955"
      },
      "source": [
        "5 . DecisionTreeClassifier:"
      ],
      "id": "7d93d955"
    },
    {
      "cell_type": "code",
      "execution_count": 40,
      "metadata": {
        "id": "a571ad07",
        "colab": {
          "base_uri": "https://localhost:8080/"
        },
        "outputId": "ba44ffc5-2e53-4927-e201-bb9d4d2a32e6"
      },
      "outputs": [
        {
          "output_type": "stream",
          "name": "stdout",
          "text": [
            "DTCmodel accuracy_score:  0.9913461538461539\n"
          ]
        }
      ],
      "source": [
        "\n",
        "from sklearn.tree import DecisionTreeClassifier\n",
        "Dtc=DecisionTreeClassifier( )\n",
        "Dtc.fit(X_train,y_train)\n",
        "pred=Dtc.predict(X_test)\n",
        "DTCmodel = metrics.accuracy_score(y_test,pred)\n",
        "print('DTCmodel accuracy_score: ',DTCmodel)"
      ],
      "id": "a571ad07"
    },
    {
      "cell_type": "markdown",
      "metadata": {
        "id": "a4b9ac42"
      },
      "source": [
        " 6 . K-Nearest Neighbors Algorithm :"
      ],
      "id": "a4b9ac42"
    },
    {
      "cell_type": "code",
      "execution_count": 41,
      "metadata": {
        "colab": {
          "base_uri": "https://localhost:8080/"
        },
        "id": "4502f7b0",
        "outputId": "cc5b94ee-69ab-442f-c301-5b40355a65d0"
      },
      "outputs": [
        {
          "output_type": "stream",
          "name": "stdout",
          "text": [
            "KNNmodel accuracy_score:  0.6257211538461539\n"
          ]
        }
      ],
      "source": [
        "from sklearn.neighbors import KNeighborsClassifier\n",
        "classifier = KNeighborsClassifier(n_neighbors=5)\n",
        "classifier.fit(X_train, y_train)\n",
        "pred_KNN=classifier.predict(X_test)\n",
        "KNNmodel = metrics.accuracy_score(y_test,pred_KNN)\n",
        "print('KNNmodel accuracy_score: ',KNNmodel)"
      ],
      "id": "4502f7b0"
    },
    {
      "cell_type": "code",
      "execution_count": 42,
      "metadata": {
        "colab": {
          "base_uri": "https://localhost:8080/",
          "height": 337
        },
        "id": "oA5PNGSpe9fL",
        "outputId": "a3a41fba-97d5-424c-e8ac-443d1cf34988"
      },
      "outputs": [
        {
          "output_type": "stream",
          "name": "stderr",
          "text": [
            "/usr/local/lib/python3.7/dist-packages/sklearn/utils/deprecation.py:87: FutureWarning: Function plot_confusion_matrix is deprecated; Function `plot_confusion_matrix` is deprecated in 1.0 and will be removed in 1.2. Use one of the class methods: ConfusionMatrixDisplay.from_predictions or ConfusionMatrixDisplay.from_estimator.\n",
            "  warnings.warn(msg, category=FutureWarning)\n"
          ]
        },
        {
          "output_type": "display_data",
          "data": {
            "text/plain": [
              "<Figure size 432x288 with 2 Axes>"
            ],
            "image/png": "[encoded data removed]"
          },
          "metadata": {
            "needs_background": "light"
          }
        }
      ],
      "source": [
        "plot_confusion_matrix(classifier,X_test,y_test,display_labels=['fake','real'],cmap='Blues')\n",
        "plt.show()"
      ],
      "id": "oA5PNGSpe9fL"
    },
    {
      "cell_type": "markdown",
      "metadata": {
        "id": "11db0236"
      },
      "source": [
        "### comparioson"
      ],
      "id": "11db0236"
    },
    {
      "cell_type": "code",
      "execution_count": 43,
      "metadata": {
        "colab": {
          "base_uri": "https://localhost:8080/",
          "height": 478
        },
        "id": "b94a8ada",
        "outputId": "544f1f0f-1082-412e-87ba-bdf279860cd7"
      },
      "outputs": [
        {
          "output_type": "display_data",
          "data": {
            "text/plain": [
              "<Figure size 720x360 with 1 Axes>"
            ],
            "image/png": "[encoded data removed]"
          },
          "metadata": {
            "needs_background": "light"
          }
        },
        {
          "output_type": "stream",
          "name": "stdout",
          "text": [
            "MNB_accuracy 0.9632211538461538\n",
            "MNB_t_accuracy 0.9632211538461538\n",
            "pass_agg_accuracy 0.9932692307692308\n",
            "pass_agg_t 0.9932692307692308\n",
            "log_reg 0.9836538461538461\n",
            "KNN 0.6257211538461539\n",
            "RFCL 0.9930288461538461\n"
          ]
        }
      ],
      "source": [
        "# import matplotlib.pyplot as plt\n",
        " \n",
        "  \n",
        "# # creating the dataset\n",
        "# data = {'MNB':MNB_accuracy, 'MNB_t':MNB_t_accuracy, 'pass_agg':pass_agg,\n",
        "#         'pass_agg_t':pass_agg_t,'log_reg':log_r_accuracy}\n",
        "# algos = list(data.keys())\n",
        "# accuracy = list(data.values())\n",
        "  \n",
        "# fig = plt.figure(figsize = (10, 5))\n",
        " \n",
        "# # creating the bar plot\n",
        "# plt.bar(algos, accuracy, color ='maroon',\n",
        "#         width = 0.4)\n",
        " \n",
        "# plt.xlabel(\"algorithms\")\n",
        "# plt.ylabel(\"accuracy\")\n",
        "# plt.title(\"accracy for different algorithms\")\n",
        "# plt.show()\n",
        " \n",
        "    \n",
        "# print('MNB_accuracy',MNB_accuracy)\n",
        "# print('MNB_t_accuracy',MNB_t_accuracy)\n",
        "# print('pass_agg_accuracy',pass_agg)\n",
        "# print('pass_agg_t',pass_agg_t)\n",
        "# print('log_reg',log_r_accuracy)\n",
        "\n",
        "\n",
        "\n",
        "import matplotlib.pyplot as plt\n",
        " \n",
        "  \n",
        "# creating the dataset\n",
        "data = {'MNB':MNB_accuracy, 'MNB_t':MNB_t_accuracy, 'pass_agg':pass_agg,\n",
        "        'pass_agg_t':pass_agg_t,'log_reg':log_r_accuracy,'KNN':KNNmodel,'RFCL':RFCLmodel}\n",
        "algos = list(data.keys())\n",
        "accuracy = list(data.values())\n",
        "  \n",
        "fig = plt.figure(figsize = (10, 5))\n",
        " \n",
        "# creating the bar plot\n",
        "plt.bar(algos, accuracy, color ='maroon',\n",
        "        width = 0.4)\n",
        " \n",
        "plt.xlabel(\"algorithms\")\n",
        "plt.ylabel(\"accuracy\")\n",
        "plt.title(\"accracy for different algorithms\")\n",
        "plt.show()\n",
        " \n",
        "    \n",
        "print('MNB_accuracy',MNB_accuracy)\n",
        "print('MNB_t_accuracy',MNB_t_accuracy)\n",
        "print('pass_agg_accuracy',pass_agg)\n",
        "print('pass_agg_t',pass_agg_t)\n",
        "print('log_reg',log_r_accuracy)\n",
        "print('KNN',KNNmodel)\n",
        "print('RFCL',RFCLmodel)"
      ],
      "id": "b94a8ada"
    },
    {
      "cell_type": "markdown",
      "metadata": {
        "id": "58374fd0"
      },
      "source": [
        "#### Note: passive aggrassive algorithm works best"
      ],
      "id": "58374fd0"
    },
    {
      "cell_type": "code",
      "execution_count": 44,
      "metadata": {
        "colab": {
          "base_uri": "https://localhost:8080/"
        },
        "id": "b669a0aa",
        "outputId": "ad98967c-7c68-43c4-d4d6-b28d7488ce3a"
      },
      "outputs": [
        {
          "output_type": "stream",
          "name": "stdout",
          "text": [
            "[1]\n",
            "The news is Fake and Unreliable\n"
          ]
        }
      ],
      "source": [
        "X_new = X_test[[100]]\n",
        "\n",
        "prediction = clf.predict(X_new)\n",
        "print(prediction)\n",
        "\n",
        "if (prediction[0] == 0):\n",
        "  print('The news in Real')\n",
        "else:\n",
        "  print('The news is Fake and Unreliable')"
      ],
      "id": "b669a0aa"
    },
    {
      "cell_type": "code",
      "execution_count": 44,
      "metadata": {
        "id": "pDWNzXloDGoy"
      },
      "outputs": [],
      "source": [
        ""
      ],
      "id": "pDWNzXloDGoy"
    },
    {
      "cell_type": "code",
      "execution_count": 45,
      "metadata": {
        "id": "89b07695"
      },
      "outputs": [],
      "source": [
        "#save model\n",
        "import pickle \n",
        "filename= 'finalized_model.pkl'\n",
        "pickle.dump(clf, open(filename,  'wb'))"
      ],
      "id": "89b07695"
    },
    {
      "cell_type": "code",
      "execution_count": 46,
      "metadata": {
        "id": "6f99b820"
      },
      "outputs": [],
      "source": [
        "# save vectorizer\n",
        "import pickle\n",
        "filename = 'vectorizer.pkl'\n",
        "pickle.dump(tf, open(filename,'wb'))"
      ],
      "id": "6f99b820"
    }
  ],
  "metadata": {
    "colab": {
      "collapsed_sections": [],
      "name": "Fake_News_different_algorithms_and_tfidf_vectorizer__author_and_title_diff_appraocj.ipynb",
      "provenance": []
    },
    "kernelspec": {
      "display_name": "Python 3 (ipykernel)",
      "language": "python",
      "name": "python3"
    },
    "language_info": {
      "codemirror_mode": {
        "name": "ipython",
        "version": 3
      },
      "file_extension": ".py",
      "mimetype": "text/x-python",
      "name": "python",
      "nbconvert_exporter": "python",
      "pygments_lexer": "ipython3",
      "version": "3.9.7"
    }
  },
  "nbformat": 4,
  "nbformat_minor": 5
}