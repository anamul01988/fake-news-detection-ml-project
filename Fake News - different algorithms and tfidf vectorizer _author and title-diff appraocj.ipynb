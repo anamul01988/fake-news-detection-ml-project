{
 "cells": [
  {
   "cell_type": "markdown",
   "id": "967d85cc",
   "metadata": {},
   "source": [
    "# Fake news classifier using different algorithms\n",
    "- <b>trainning on : title and author</b>\n",
    "- tfidf vectorizer and gri _searchCV\n",
    "1. MultinomialNB(vanilla and with tuning)\n",
    "2. assiveAggressiveClassifier(vanilla and with tuning)\n",
    "3. LogisticRegression\n",
    "*source: https://www.kaggle.com/c/fake-news/data"
   ]
  },
  {
   "cell_type": "code",
   "execution_count": 1,
   "id": "1923c136",
   "metadata": {},
   "outputs": [],
   "source": [
    "### importing and loading"
   ]
  },
  {
   "cell_type": "code",
   "execution_count": 2,
   "id": "7a1e5625",
   "metadata": {},
   "outputs": [],
   "source": [
    "#import os\n",
    "#import sys\n",
    "import numpy as np\n",
    "import pandas as pd\n",
    "#import seaborn as sns\n",
    "import matplotlib.pyplot as plt\n",
    "\n",
    "import re \n",
    "from nltk.corpus import stopwords \n",
    "\n",
    "from nltk.stem.porter import PorterStemmer\n",
    "from sklearn.feature_extraction.text import CountVectorizer, TfidfVectorizer, HashingVectorizer\n",
    "\n",
    "from sklearn.model_selection import train_test_split \n",
    "\n",
    "from sklearn.naive_bayes import MultinomialNB\n",
    "from sklearn.linear_model import PassiveAggressiveClassifier\n",
    "from sklearn.linear_model import LogisticRegression\n",
    "from sklearn import metrics\n",
    "from sklearn.metrics import accuracy_score \n",
    "from sklearn.metrics import plot_confusion_matrix\n",
    "\n",
    "from sklearn.model_selection import GridSearchCV\n",
    "from sklearn.model_selection import cross_val_score"
   ]
  },
  {
   "cell_type": "code",
   "execution_count": 3,
   "id": "30e6073a",
   "metadata": {},
   "outputs": [
    {
     "data": {
      "text/html": [
       "<div>\n",
       "<style scoped>\n",
       "    .dataframe tbody tr th:only-of-type {\n",
       "        vertical-align: middle;\n",
       "    }\n",
       "\n",
       "    .dataframe tbody tr th {\n",
       "        vertical-align: top;\n",
       "    }\n",
       "\n",
       "    .dataframe thead th {\n",
       "        text-align: right;\n",
       "    }\n",
       "</style>\n",
       "<table border=\"1\" class=\"dataframe\">\n",
       "  <thead>\n",
       "    <tr style=\"text-align: right;\">\n",
       "      <th></th>\n",
       "      <th>title</th>\n",
       "      <th>author</th>\n",
       "      <th>text</th>\n",
       "      <th>label</th>\n",
       "    </tr>\n",
       "  </thead>\n",
       "  <tbody>\n",
       "    <tr>\n",
       "      <th>0</th>\n",
       "      <td>House Dem Aide: We Didn’t Even See Comey’s Let...</td>\n",
       "      <td>Darrell Lucus</td>\n",
       "      <td>House Dem Aide: We Didn’t Even See Comey’s Let...</td>\n",
       "      <td>1</td>\n",
       "    </tr>\n",
       "    <tr>\n",
       "      <th>1</th>\n",
       "      <td>FLYNN: Hillary Clinton, Big Woman on Campus - ...</td>\n",
       "      <td>Daniel J. Flynn</td>\n",
       "      <td>Ever get the feeling your life circles the rou...</td>\n",
       "      <td>0</td>\n",
       "    </tr>\n",
       "    <tr>\n",
       "      <th>2</th>\n",
       "      <td>Why the Truth Might Get You Fired</td>\n",
       "      <td>Consortiumnews.com</td>\n",
       "      <td>Why the Truth Might Get You Fired October 29, ...</td>\n",
       "      <td>1</td>\n",
       "    </tr>\n",
       "  </tbody>\n",
       "</table>\n",
       "</div>"
      ],
      "text/plain": [
       "                                               title              author  \\\n",
       "0  House Dem Aide: We Didn’t Even See Comey’s Let...       Darrell Lucus   \n",
       "1  FLYNN: Hillary Clinton, Big Woman on Campus - ...     Daniel J. Flynn   \n",
       "2                  Why the Truth Might Get You Fired  Consortiumnews.com   \n",
       "\n",
       "                                                text  label  \n",
       "0  House Dem Aide: We Didn’t Even See Comey’s Let...      1  \n",
       "1  Ever get the feeling your life circles the rou...      0  \n",
       "2  Why the Truth Might Get You Fired October 29, ...      1  "
      ]
     },
     "metadata": {},
     "output_type": "display_data"
    }
   ],
   "source": [
    "df=pd.read_csv('train.csv')\n",
    "df= df.drop(columns='id', axis=1) # id column is not necessary\n",
    "display(df.head(3))"
   ]
  },
  {
   "cell_type": "markdown",
   "id": "6f93dccc",
   "metadata": {},
   "source": [
    "##### Note: 1 means Fake news,0 means not Fake news"
   ]
  },
  {
   "cell_type": "markdown",
   "id": "d7cb3eec",
   "metadata": {},
   "source": [
    "### Data Analysis"
   ]
  },
  {
   "cell_type": "code",
   "execution_count": 4,
   "id": "e0b4de34",
   "metadata": {},
   "outputs": [
    {
     "name": "stdout",
     "output_type": "stream",
     "text": [
      "shape (20800, 4)\n",
      "<class 'pandas.core.frame.DataFrame'>\n",
      "RangeIndex: 20800 entries, 0 to 20799\n",
      "Data columns (total 4 columns):\n",
      " #   Column  Non-Null Count  Dtype \n",
      "---  ------  --------------  ----- \n",
      " 0   title   20242 non-null  object\n",
      " 1   author  18843 non-null  object\n",
      " 2   text    20761 non-null  object\n",
      " 3   label   20800 non-null  int64 \n",
      "dtypes: int64(1), object(3)\n",
      "memory usage: 650.1+ KB\n",
      "None\n"
     ]
    }
   ],
   "source": [
    "print('shape', df.shape)\n",
    "print(df.info())"
   ]
  },
  {
   "cell_type": "code",
   "execution_count": 5,
   "id": "57bc017e",
   "metadata": {},
   "outputs": [
    {
     "data": {
      "text/plain": [
       "title      558\n",
       "author    1957\n",
       "text        39\n",
       "label        0\n",
       "dtype: int64"
      ]
     },
     "execution_count": 5,
     "metadata": {},
     "output_type": "execute_result"
    }
   ],
   "source": [
    "# null value check\n",
    "df.isnull().sum()"
   ]
  },
  {
   "cell_type": "code",
   "execution_count": 6,
   "id": "ad5d778e",
   "metadata": {},
   "outputs": [
    {
     "name": "stdout",
     "output_type": "stream",
     "text": [
      "                                                   title  \\\n",
      "0      House Dem Aide: We Didn’t Even See Comey’s Let...   \n",
      "1      FLYNN: Hillary Clinton, Big Woman on Campus - ...   \n",
      "2                      Why the Truth Might Get You Fired   \n",
      "3      15 Civilians Killed In Single US Airstrike Hav...   \n",
      "4      Iranian woman jailed for fictional unpublished...   \n",
      "...                                                  ...   \n",
      "20795  Rapper T.I.: Trump a ’Poster Child For White S...   \n",
      "20796  N.F.L. Playoffs: Schedule, Matchups and Odds -...   \n",
      "20797  Macy’s Is Said to Receive Takeover Approach by...   \n",
      "20798  NATO, Russia To Hold Parallel Exercises In Bal...   \n",
      "20799                          What Keeps the F-35 Alive   \n",
      "\n",
      "                                          author  \\\n",
      "0                                  Darrell Lucus   \n",
      "1                                Daniel J. Flynn   \n",
      "2                             Consortiumnews.com   \n",
      "3                                Jessica Purkiss   \n",
      "4                                 Howard Portnoy   \n",
      "...                                          ...   \n",
      "20795                              Jerome Hudson   \n",
      "20796                           Benjamin Hoffman   \n",
      "20797  Michael J. de la Merced and Rachel Abrams   \n",
      "20798                                Alex Ansary   \n",
      "20799                              David Swanson   \n",
      "\n",
      "                                                    text  label  \n",
      "0      House Dem Aide: We Didn’t Even See Comey’s Let...      1  \n",
      "1      Ever get the feeling your life circles the rou...      0  \n",
      "2      Why the Truth Might Get You Fired October 29, ...      1  \n",
      "3      Videos 15 Civilians Killed In Single US Airstr...      1  \n",
      "4      Print \\nAn Iranian woman has been sentenced to...      1  \n",
      "...                                                  ...    ...  \n",
      "20795  Rapper T. I. unloaded on black celebrities who...      0  \n",
      "20796  When the Green Bay Packers lost to the Washing...      0  \n",
      "20797  The Macy’s of today grew from the union of sev...      0  \n",
      "20798  NATO, Russia To Hold Parallel Exercises In Bal...      1  \n",
      "20799    David Swanson is an author, activist, journa...      1  \n",
      "\n",
      "[20242 rows x 4 columns]\n"
     ]
    }
   ],
   "source": [
    "# missing = df.title.mean( )\n",
    "# data = df.dropna(subset=['title'])\n",
    "# print(data)\n",
    "# data = data[data['title'].notnull()]\n",
    "# print(data)\n",
    "data =df.dropna(axis=0, subset=('title', ))\n",
    "print(data)\n",
    "\n",
    "## making new data frame with dropped NA values\n",
    "# new_data = df.dropna(axis = 0, how ='title')\n",
    "  \n",
    "# # comparing sizes of data frames\n",
    "# print(\"Old data frame length:\", len(data), \"\\nNew data frame length:\", \n",
    "#        len(new_data), \"\\nNumber of rows with at least 1 NA value: \",\n",
    "#        (len(data)-len(new_data)))"
   ]
  },
  {
   "cell_type": "code",
   "execution_count": 7,
   "id": "99b39ad0",
   "metadata": {},
   "outputs": [
    {
     "data": {
      "text/plain": [
       "title     0\n",
       "author    0\n",
       "text      0\n",
       "label     0\n",
       "dtype: int64"
      ]
     },
     "execution_count": 7,
     "metadata": {},
     "output_type": "execute_result"
    }
   ],
   "source": [
    "# Replacing the null values with emtpy strings \n",
    "df = df.fillna('')\n",
    "df.isnull().sum()"
   ]
  },
  {
   "cell_type": "markdown",
   "id": "22de893b",
   "metadata": {},
   "source": [
    "### Text preprocessing- on 'author' and 'title' column\n"
   ]
  },
  {
   "cell_type": "code",
   "execution_count": 8,
   "id": "b9b21770",
   "metadata": {},
   "outputs": [
    {
     "data": {
      "text/plain": [
       "0        Darrell Lucus House Dem Aide: We Didn’t Even S...\n",
       "1        Daniel J. Flynn FLYNN: Hillary Clinton, Big Wo...\n",
       "2        Consortiumnews.com Why the Truth Might Get You...\n",
       "3        Jessica Purkiss 15 Civilians Killed In Single ...\n",
       "4        Howard Portnoy Iranian woman jailed for fictio...\n",
       "                               ...                        \n",
       "20795    Jerome Hudson Rapper T.I.: Trump a ’Poster Chi...\n",
       "20796    Benjamin Hoffman N.F.L. Playoffs: Schedule, Ma...\n",
       "20797    Michael J. de la Merced and Rachel Abrams Macy...\n",
       "20798    Alex Ansary NATO, Russia To Hold Parallel Exer...\n",
       "20799              David Swanson What Keeps the F-35 Alive\n",
       "Name: content, Length: 20800, dtype: object"
      ]
     },
     "execution_count": 8,
     "metadata": {},
     "output_type": "execute_result"
    }
   ],
   "source": [
    "#merging the author name and news title and make a new column\n",
    "df['content'] = df['author']+' '+df['title']\n",
    "df['content']"
   ]
  },
  {
   "cell_type": "markdown",
   "id": "8f17c961",
   "metadata": {},
   "source": [
    "### Now we will separate the data and label"
   ]
  },
  {
   "cell_type": "code",
   "execution_count": 9,
   "id": "2c3aeda4",
   "metadata": {},
   "outputs": [
    {
     "data": {
      "text/plain": [
       "0    Darrell Lucus House Dem Aide: We Didn’t Even S...\n",
       "1    Daniel J. Flynn FLYNN: Hillary Clinton, Big Wo...\n",
       "2    Consortiumnews.com Why the Truth Might Get You...\n",
       "3    Jessica Purkiss 15 Civilians Killed In Single ...\n",
       "4    Howard Portnoy Iranian woman jailed for fictio...\n",
       "Name: content, dtype: object"
      ]
     },
     "metadata": {},
     "output_type": "display_data"
    },
    {
     "name": "stdout",
     "output_type": "stream",
     "text": [
      "0    1\n",
      "1    0\n",
      "2    1\n",
      "3    1\n",
      "4    1\n",
      "Name: label, dtype: int64\n"
     ]
    }
   ],
   "source": [
    "#X = df.drop(columns='label', axis=1)\n",
    "X=df['content']\n",
    "Y = df['label']\n",
    "display(X.head())\n",
    "print(Y.head())"
   ]
  },
  {
   "cell_type": "markdown",
   "id": "dcc4d7ea",
   "metadata": {},
   "source": [
    "#### Stemming and other preprocessing"
   ]
  },
  {
   "cell_type": "code",
   "execution_count": 10,
   "id": "0814df3c",
   "metadata": {},
   "outputs": [
    {
     "data": {
      "text/plain": [
       "(20800, 5)"
      ]
     },
     "execution_count": 10,
     "metadata": {},
     "output_type": "execute_result"
    }
   ],
   "source": [
    "#take 5000 rows from df\n",
    "#df=df[:1000]\n",
    "#df.head()\n",
    "df.shape\n",
    "#df['text']"
   ]
  },
  {
   "cell_type": "code",
   "execution_count": 11,
   "id": "21d1f297",
   "metadata": {},
   "outputs": [],
   "source": [
    "# stemming \n",
    "ps = PorterStemmer()\n",
    "# corpus = []\n",
    "# for i in range(0, len(df)):\n",
    "#     review = re.sub('[^a-zA-Z]', ' ', df['content'][i]) # only the content column\n",
    "#     review = review.lower()\n",
    "#     review = review.split()\n",
    "    \n",
    "#     review = [ps.stem(word) for word in review if not word in stopwords.words('english')]\n",
    "#     review = ' '.join(review)\n",
    "#     corpus.append(review)\n",
    "\n",
    "def stemming(content):\n",
    "    stemmed_content = re.sub('[^a-zA-Z]',' ',content)\n",
    "    stemmed_content = stemmed_content.lower()\n",
    "    stemmed_content = stemmed_content.split()\n",
    "    stemmed_content = [ps.stem(word) for word in stemmed_content if not word in stopwords.words('english')]\n",
    "    stemmed_content = ' '.join(stemmed_content)\n",
    "    return stemmed_content\n",
    "    \n",
    "    \n",
    "df['content'] = df['content'].apply(stemming)"
   ]
  },
  {
   "cell_type": "code",
   "execution_count": 12,
   "id": "ba4ddca2",
   "metadata": {},
   "outputs": [
    {
     "data": {
      "text/plain": [
       "0    darrel lucu hous dem aid even see comey letter...\n",
       "1    daniel j flynn flynn hillari clinton big woman...\n",
       "2               consortiumnew com truth might get fire\n",
       "3    jessica purkiss civilian kill singl us airstri...\n",
       "4    howard portnoy iranian woman jail fiction unpu...\n",
       "Name: content, dtype: object"
      ]
     },
     "execution_count": 12,
     "metadata": {},
     "output_type": "execute_result"
    }
   ],
   "source": [
    "df['content'][:5]\n",
    "#df.head()"
   ]
  },
  {
   "cell_type": "code",
   "execution_count": 13,
   "id": "4b4931c0",
   "metadata": {},
   "outputs": [
    {
     "data": {
      "text/plain": [
       "array(['darrel lucu hous dem aid even see comey letter jason chaffetz tweet',\n",
       "       'daniel j flynn flynn hillari clinton big woman campu breitbart',\n",
       "       'consortiumnew com truth might get fire', ...,\n",
       "       'michael j de la merc rachel abram maci said receiv takeov approach hudson bay new york time',\n",
       "       'alex ansari nato russia hold parallel exercis balkan',\n",
       "       'david swanson keep f aliv'], dtype=object)"
      ]
     },
     "execution_count": 13,
     "metadata": {},
     "output_type": "execute_result"
    }
   ],
   "source": [
    "# Separating data and label\n",
    "X = df['content'].values\n",
    "y = df['label'].values\n",
    "X"
   ]
  },
  {
   "cell_type": "markdown",
   "id": "57397b23",
   "metadata": {},
   "source": [
    "#### TfidfVectorizer"
   ]
  },
  {
   "cell_type": "code",
   "execution_count": 14,
   "id": "9688ddcd",
   "metadata": {},
   "outputs": [
    {
     "name": "stdout",
     "output_type": "stream",
     "text": [
      "(20800, 5000)\n",
      "[[0. 0. 0. ... 0. 0. 0.]\n",
      " [0. 0. 0. ... 0. 0. 0.]\n",
      " [0. 0. 0. ... 0. 0. 0.]\n",
      " ...\n",
      " [0. 0. 0. ... 0. 0. 0.]\n",
      " [0. 0. 0. ... 0. 0. 0.]\n",
      " [0. 0. 0. ... 0. 0. 0.]]\n"
     ]
    }
   ],
   "source": [
    " # i want to take 5000 feayures and (1,3) means features will be single,double or triple word\n",
    "tf= TfidfVectorizer(max_features=5000,ngram_range=(1,3)) \n",
    "X=tf.fit_transform(df['content']).toarray()\n",
    "print(X.shape)\n",
    "print(X)"
   ]
  },
  {
   "cell_type": "markdown",
   "id": "34a544bc",
   "metadata": {},
   "source": [
    "#### check features"
   ]
  },
  {
   "cell_type": "code",
   "execution_count": 15,
   "id": "553eafbc",
   "metadata": {},
   "outputs": [
    {
     "data": {
      "text/plain": [
       "['aaron',\n",
       " 'aaron carrol',\n",
       " 'aaron kesel',\n",
       " 'aaron klein',\n",
       " 'aaron klein ali',\n",
       " 'abandon',\n",
       " 'abbi',\n",
       " 'abbi goodnough',\n",
       " 'abc',\n",
       " 'abduct']"
      ]
     },
     "execution_count": 15,
     "metadata": {},
     "output_type": "execute_result"
    }
   ],
   "source": [
    "tf.get_feature_names()[:10] # first 10 features"
   ]
  },
  {
   "cell_type": "code",
   "execution_count": 16,
   "id": "4f53a268",
   "metadata": {},
   "outputs": [
    {
     "data": {
      "text/plain": [
       "{'analyzer': 'word',\n",
       " 'binary': False,\n",
       " 'decode_error': 'strict',\n",
       " 'dtype': numpy.float64,\n",
       " 'encoding': 'utf-8',\n",
       " 'input': 'content',\n",
       " 'lowercase': True,\n",
       " 'max_df': 1.0,\n",
       " 'max_features': 5000,\n",
       " 'min_df': 1,\n",
       " 'ngram_range': (1, 3),\n",
       " 'norm': 'l2',\n",
       " 'preprocessor': None,\n",
       " 'smooth_idf': True,\n",
       " 'stop_words': None,\n",
       " 'strip_accents': None,\n",
       " 'sublinear_tf': False,\n",
       " 'token_pattern': '(?u)\\\\b\\\\w\\\\w+\\\\b',\n",
       " 'tokenizer': None,\n",
       " 'use_idf': True,\n",
       " 'vocabulary': None}"
      ]
     },
     "execution_count": 16,
     "metadata": {},
     "output_type": "execute_result"
    }
   ],
   "source": [
    "tf.get_params()"
   ]
  },
  {
   "cell_type": "markdown",
   "id": "878851ed",
   "metadata": {},
   "source": [
    "### Train test split"
   ]
  },
  {
   "cell_type": "code",
   "execution_count": 17,
   "id": "572e823b",
   "metadata": {},
   "outputs": [],
   "source": [
    "X_train, X_test, y_train, y_test = train_test_split(X, y, test_size=0.20, random_state=42)"
   ]
  },
  {
   "cell_type": "code",
   "execution_count": 18,
   "id": "b528bd63",
   "metadata": {},
   "outputs": [
    {
     "data": {
      "text/html": [
       "<div>\n",
       "<style scoped>\n",
       "    .dataframe tbody tr th:only-of-type {\n",
       "        vertical-align: middle;\n",
       "    }\n",
       "\n",
       "    .dataframe tbody tr th {\n",
       "        vertical-align: top;\n",
       "    }\n",
       "\n",
       "    .dataframe thead th {\n",
       "        text-align: right;\n",
       "    }\n",
       "</style>\n",
       "<table border=\"1\" class=\"dataframe\">\n",
       "  <thead>\n",
       "    <tr style=\"text-align: right;\">\n",
       "      <th></th>\n",
       "      <th>aaron</th>\n",
       "      <th>aaron carrol</th>\n",
       "      <th>aaron kesel</th>\n",
       "      <th>aaron klein</th>\n",
       "      <th>aaron klein ali</th>\n",
       "      <th>abandon</th>\n",
       "      <th>abbi</th>\n",
       "      <th>abbi goodnough</th>\n",
       "      <th>abc</th>\n",
       "      <th>abduct</th>\n",
       "      <th>...</th>\n",
       "      <th>zika</th>\n",
       "      <th>zika viru</th>\n",
       "      <th>zionist</th>\n",
       "      <th>zone</th>\n",
       "      <th>zraick</th>\n",
       "      <th>zraick sandra</th>\n",
       "      <th>zraick sandra stevenson</th>\n",
       "      <th>zu</th>\n",
       "      <th>zuckerberg</th>\n",
       "      <th>zuess</th>\n",
       "    </tr>\n",
       "  </thead>\n",
       "  <tbody>\n",
       "    <tr>\n",
       "      <th>0</th>\n",
       "      <td>0.0</td>\n",
       "      <td>0.0</td>\n",
       "      <td>0.0</td>\n",
       "      <td>0.0</td>\n",
       "      <td>0.0</td>\n",
       "      <td>0.0</td>\n",
       "      <td>0.0</td>\n",
       "      <td>0.0</td>\n",
       "      <td>0.0</td>\n",
       "      <td>0.0</td>\n",
       "      <td>...</td>\n",
       "      <td>0.0</td>\n",
       "      <td>0.0</td>\n",
       "      <td>0.0</td>\n",
       "      <td>0.0</td>\n",
       "      <td>0.0</td>\n",
       "      <td>0.0</td>\n",
       "      <td>0.0</td>\n",
       "      <td>0.0</td>\n",
       "      <td>0.0</td>\n",
       "      <td>0.0</td>\n",
       "    </tr>\n",
       "    <tr>\n",
       "      <th>1</th>\n",
       "      <td>0.0</td>\n",
       "      <td>0.0</td>\n",
       "      <td>0.0</td>\n",
       "      <td>0.0</td>\n",
       "      <td>0.0</td>\n",
       "      <td>0.0</td>\n",
       "      <td>0.0</td>\n",
       "      <td>0.0</td>\n",
       "      <td>0.0</td>\n",
       "      <td>0.0</td>\n",
       "      <td>...</td>\n",
       "      <td>0.0</td>\n",
       "      <td>0.0</td>\n",
       "      <td>0.0</td>\n",
       "      <td>0.0</td>\n",
       "      <td>0.0</td>\n",
       "      <td>0.0</td>\n",
       "      <td>0.0</td>\n",
       "      <td>0.0</td>\n",
       "      <td>0.0</td>\n",
       "      <td>0.0</td>\n",
       "    </tr>\n",
       "    <tr>\n",
       "      <th>2</th>\n",
       "      <td>0.0</td>\n",
       "      <td>0.0</td>\n",
       "      <td>0.0</td>\n",
       "      <td>0.0</td>\n",
       "      <td>0.0</td>\n",
       "      <td>0.0</td>\n",
       "      <td>0.0</td>\n",
       "      <td>0.0</td>\n",
       "      <td>0.0</td>\n",
       "      <td>0.0</td>\n",
       "      <td>...</td>\n",
       "      <td>0.0</td>\n",
       "      <td>0.0</td>\n",
       "      <td>0.0</td>\n",
       "      <td>0.0</td>\n",
       "      <td>0.0</td>\n",
       "      <td>0.0</td>\n",
       "      <td>0.0</td>\n",
       "      <td>0.0</td>\n",
       "      <td>0.0</td>\n",
       "      <td>0.0</td>\n",
       "    </tr>\n",
       "    <tr>\n",
       "      <th>3</th>\n",
       "      <td>0.0</td>\n",
       "      <td>0.0</td>\n",
       "      <td>0.0</td>\n",
       "      <td>0.0</td>\n",
       "      <td>0.0</td>\n",
       "      <td>0.0</td>\n",
       "      <td>0.0</td>\n",
       "      <td>0.0</td>\n",
       "      <td>0.0</td>\n",
       "      <td>0.0</td>\n",
       "      <td>...</td>\n",
       "      <td>0.0</td>\n",
       "      <td>0.0</td>\n",
       "      <td>0.0</td>\n",
       "      <td>0.0</td>\n",
       "      <td>0.0</td>\n",
       "      <td>0.0</td>\n",
       "      <td>0.0</td>\n",
       "      <td>0.0</td>\n",
       "      <td>0.0</td>\n",
       "      <td>0.0</td>\n",
       "    </tr>\n",
       "    <tr>\n",
       "      <th>4</th>\n",
       "      <td>0.0</td>\n",
       "      <td>0.0</td>\n",
       "      <td>0.0</td>\n",
       "      <td>0.0</td>\n",
       "      <td>0.0</td>\n",
       "      <td>0.0</td>\n",
       "      <td>0.0</td>\n",
       "      <td>0.0</td>\n",
       "      <td>0.0</td>\n",
       "      <td>0.0</td>\n",
       "      <td>...</td>\n",
       "      <td>0.0</td>\n",
       "      <td>0.0</td>\n",
       "      <td>0.0</td>\n",
       "      <td>0.0</td>\n",
       "      <td>0.0</td>\n",
       "      <td>0.0</td>\n",
       "      <td>0.0</td>\n",
       "      <td>0.0</td>\n",
       "      <td>0.0</td>\n",
       "      <td>0.0</td>\n",
       "    </tr>\n",
       "  </tbody>\n",
       "</table>\n",
       "<p>5 rows × 5000 columns</p>\n",
       "</div>"
      ],
      "text/plain": [
       "   aaron  aaron carrol  aaron kesel  aaron klein  aaron klein ali  abandon  \\\n",
       "0    0.0           0.0          0.0          0.0              0.0      0.0   \n",
       "1    0.0           0.0          0.0          0.0              0.0      0.0   \n",
       "2    0.0           0.0          0.0          0.0              0.0      0.0   \n",
       "3    0.0           0.0          0.0          0.0              0.0      0.0   \n",
       "4    0.0           0.0          0.0          0.0              0.0      0.0   \n",
       "\n",
       "   abbi  abbi goodnough  abc  abduct  ...  zika  zika viru  zionist  zone  \\\n",
       "0   0.0             0.0  0.0     0.0  ...   0.0        0.0      0.0   0.0   \n",
       "1   0.0             0.0  0.0     0.0  ...   0.0        0.0      0.0   0.0   \n",
       "2   0.0             0.0  0.0     0.0  ...   0.0        0.0      0.0   0.0   \n",
       "3   0.0             0.0  0.0     0.0  ...   0.0        0.0      0.0   0.0   \n",
       "4   0.0             0.0  0.0     0.0  ...   0.0        0.0      0.0   0.0   \n",
       "\n",
       "   zraick  zraick sandra  zraick sandra stevenson   zu  zuckerberg  zuess  \n",
       "0     0.0            0.0                      0.0  0.0         0.0    0.0  \n",
       "1     0.0            0.0                      0.0  0.0         0.0    0.0  \n",
       "2     0.0            0.0                      0.0  0.0         0.0    0.0  \n",
       "3     0.0            0.0                      0.0  0.0         0.0    0.0  \n",
       "4     0.0            0.0                      0.0  0.0         0.0    0.0  \n",
       "\n",
       "[5 rows x 5000 columns]"
      ]
     },
     "execution_count": 18,
     "metadata": {},
     "output_type": "execute_result"
    }
   ],
   "source": [
    "count_df = pd.DataFrame(X, columns=tf.get_feature_names())\n",
    "count_df.head()"
   ]
  },
  {
   "cell_type": "markdown",
   "id": "fe449427",
   "metadata": {},
   "source": [
    "### Algorithms"
   ]
  },
  {
   "cell_type": "markdown",
   "id": "cf4b1dc1",
   "metadata": {},
   "source": [
    "#### 1. Multinomial NB"
   ]
  },
  {
   "cell_type": "code",
   "execution_count": 19,
   "id": "606399a2",
   "metadata": {
    "scrolled": true
   },
   "outputs": [
    {
     "name": "stdout",
     "output_type": "stream",
     "text": [
      "MNB accuracy_score 0.9632211538461538\n"
     ]
    },
    {
     "data": {
      "image/png": "[encoded data removed]",
      "text/plain": [
       "<Figure size 432x288 with 2 Axes>"
      ]
     },
     "metadata": {
      "needs_background": "light"
     },
     "output_type": "display_data"
    }
   ],
   "source": [
    "clf=MultinomialNB()\n",
    "clf.fit(X_train,y_train)\n",
    "pred=clf.predict(X_test)\n",
    "MNB_accuracy=metrics.accuracy_score(y_test,pred)\n",
    "print('MNB accuracy_score',MNB_accuracy)\n",
    "\n",
    "plot_confusion_matrix(clf,X_test,y_test,display_labels=['fake','real'],cmap='Blues')\n",
    "plt.show()"
   ]
  },
  {
   "cell_type": "markdown",
   "id": "b5ec8b79",
   "metadata": {},
   "source": [
    "#### 1.1 multinomialNB with hyperparameter"
   ]
  },
  {
   "cell_type": "code",
   "execution_count": 20,
   "id": "ebf03054",
   "metadata": {},
   "outputs": [
    {
     "data": {
      "text/plain": [
       "GridSearchCV(cv=5, estimator=MultinomialNB(), n_jobs=-1,\n",
       "             param_grid={'alpha': [0.01, 0.1, 0.5, 1.0, 10.0]},\n",
       "             scoring='accuracy')"
      ]
     },
     "execution_count": 20,
     "metadata": {},
     "output_type": "execute_result"
    }
   ],
   "source": [
    "alpha=[0.01, 0.1, 0.5, 1.0, 10.0, ]\n",
    "parameters={'alpha': alpha }\n",
    "\n",
    "clf_gs=MultinomialNB()\n",
    "\n",
    "gscv=GridSearchCV(estimator=clf_gs,\n",
    "                 param_grid=parameters,\n",
    "                 scoring='accuracy',\n",
    "                 cv=5,\n",
    "                 n_jobs=-1)\n",
    "\n",
    "gscv=gscv.fit(X_train,y_train)\n",
    "gscv\n",
    "         "
   ]
  },
  {
   "cell_type": "code",
   "execution_count": 21,
   "id": "ba40c854",
   "metadata": {},
   "outputs": [
    {
     "data": {
      "text/plain": [
       "{'alpha': 1.0}"
      ]
     },
     "execution_count": 21,
     "metadata": {},
     "output_type": "execute_result"
    }
   ],
   "source": [
    "gscv.best_params_"
   ]
  },
  {
   "cell_type": "code",
   "execution_count": 22,
   "id": "2b848dd0",
   "metadata": {},
   "outputs": [
    {
     "name": "stdout",
     "output_type": "stream",
     "text": [
      "Accuracy_tuning 0.9632211538461538\n"
     ]
    },
    {
     "data": {
      "image/png": "[encoded data removed]",
      "text/plain": [
       "<Figure size 432x288 with 2 Axes>"
      ]
     },
     "metadata": {
      "needs_background": "light"
     },
     "output_type": "display_data"
    }
   ],
   "source": [
    "y_pred_gs =gscv.predict(X_test) \n",
    "MNB_t_accuracy=metrics.accuracy_score(y_test,y_pred_gs)\n",
    "print('Accuracy_tuning',MNB_t_accuracy)\n",
    "\n",
    "plot_confusion_matrix(gscv,X_test,y_test,display_labels=['fake','real'],cmap='Blues')\n",
    "plt.show()\n"
   ]
  },
  {
   "cell_type": "markdown",
   "id": "6b725d6c",
   "metadata": {},
   "source": [
    "#### 2. passive aggresive classifier algorithm"
   ]
  },
  {
   "cell_type": "code",
   "execution_count": 23,
   "id": "7e5493af",
   "metadata": {},
   "outputs": [
    {
     "name": "stderr",
     "output_type": "stream",
     "text": [
      "F:\\software\\anaconda\\lib\\site-packages\\sklearn\\linear_model\\_stochastic_gradient.py:574: ConvergenceWarning: Maximum number of iteration reached before convergence. Consider increasing max_iter to improve the fit.\n",
      "  warnings.warn(\"Maximum number of iteration reached before \"\n"
     ]
    },
    {
     "name": "stdout",
     "output_type": "stream",
     "text": [
      "Passive_agg_accuracy_score 0.9932692307692308\n"
     ]
    },
    {
     "data": {
      "image/png": "[encoded data removed]",
      "text/plain": [
       "<Figure size 432x288 with 2 Axes>"
      ]
     },
     "metadata": {
      "needs_background": "light"
     },
     "output_type": "display_data"
    }
   ],
   "source": [
    "clf = PassiveAggressiveClassifier(max_iter=10,random_state=42)\n",
    "clf.fit(X_train,y_train)\n",
    "pred=clf.predict(X_test)\n",
    "pass_agg=metrics.accuracy_score(y_test,pred)\n",
    "print('Passive_agg_accuracy_score',pass_agg)\n",
    "\n",
    "plot_confusion_matrix(clf,X_test,y_test,display_labels=['fake','real'],cmap='Blues')\n",
    "plt.show()"
   ]
  },
  {
   "cell_type": "markdown",
   "id": "ebec0a07",
   "metadata": {},
   "source": [
    "#### 2.1 with tuning"
   ]
  },
  {
   "cell_type": "code",
   "execution_count": 24,
   "id": "f73ad361",
   "metadata": {},
   "outputs": [
    {
     "data": {
      "text/plain": [
       "GridSearchCV(cv=5, estimator=PassiveAggressiveClassifier(), n_jobs=-1,\n",
       "             param_grid={'max_iter': [50, 100, 200], 'random_state': [42],\n",
       "                         'shuffle': [True]},\n",
       "             scoring='accuracy')"
      ]
     },
     "execution_count": 24,
     "metadata": {},
     "output_type": "execute_result"
    }
   ],
   "source": [
    "max_iter=[50,100,200]\n",
    "shuffle=[True]\n",
    "random_state=[42]\n",
    "\n",
    "parameters={'max_iter': max_iter,\n",
    "           'shuffle':shuffle,\n",
    "           'random_state':random_state}\n",
    "\n",
    "clf_gs=PassiveAggressiveClassifier()\n",
    "\n",
    "gscv=GridSearchCV(estimator=clf_gs,\n",
    "                 param_grid=parameters,\n",
    "                 scoring='accuracy',\n",
    "                 cv=5,\n",
    "                 n_jobs=-1)\n",
    "\n",
    "gscv2=gscv.fit(X_train,y_train)\n",
    "gscv2\n",
    "         "
   ]
  },
  {
   "cell_type": "code",
   "execution_count": 25,
   "id": "89dad88e",
   "metadata": {},
   "outputs": [
    {
     "data": {
      "text/plain": [
       "{'max_iter': 50, 'random_state': 42, 'shuffle': True}"
      ]
     },
     "execution_count": 25,
     "metadata": {},
     "output_type": "execute_result"
    }
   ],
   "source": [
    "gscv2.best_params_"
   ]
  },
  {
   "cell_type": "code",
   "execution_count": 26,
   "id": "e06a57c0",
   "metadata": {},
   "outputs": [
    {
     "name": "stdout",
     "output_type": "stream",
     "text": [
      "Accuracy_with_tuning 0.9932692307692308\n"
     ]
    },
    {
     "data": {
      "image/png": "[encoded data removed]",
      "text/plain": [
       "<Figure size 432x288 with 2 Axes>"
      ]
     },
     "metadata": {
      "needs_background": "light"
     },
     "output_type": "display_data"
    }
   ],
   "source": [
    "y_pred_gs =gscv2.predict(X_test) \n",
    "pass_agg_t=metrics.accuracy_score(y_test,y_pred_gs)\n",
    "print('Accuracy_with_tuning',pass_agg_t)\n",
    "\n",
    "plot_confusion_matrix(gscv,X_test,y_test,display_labels=['fake','real'],cmap='Blues')\n",
    "plt.show()\n"
   ]
  },
  {
   "cell_type": "markdown",
   "id": "a8859683",
   "metadata": {},
   "source": [
    "#### 3. Logistic regression algorithm"
   ]
  },
  {
   "cell_type": "code",
   "execution_count": 27,
   "id": "50c2db48",
   "metadata": {},
   "outputs": [
    {
     "name": "stdout",
     "output_type": "stream",
     "text": [
      "logistic reg. accuracy_score 0.9836538461538461\n"
     ]
    },
    {
     "data": {
      "image/png": "[encoded data removed]",
      "text/plain": [
       "<Figure size 432x288 with 2 Axes>"
      ]
     },
     "metadata": {
      "needs_background": "light"
     },
     "output_type": "display_data"
    }
   ],
   "source": [
    "clf_log= LogisticRegression()\n",
    "\n",
    "clf_log.fit(X_train,y_train)\n",
    "pred=clf_log.predict(X_test)\n",
    "log_r_accuracy=metrics.accuracy_score(y_test,pred)\n",
    "print('logistic reg. accuracy_score',log_r_accuracy)\n",
    "\n",
    "plot_confusion_matrix(clf_log,X_test,y_test,display_labels=['fake','real'],cmap='Blues')\n",
    "plt.show()"
   ]
  },
  {
   "cell_type": "code",
   "execution_count": 28,
   "id": "4eed9107",
   "metadata": {},
   "outputs": [
    {
     "name": "stdout",
     "output_type": "stream",
     "text": [
      "SVCmodel accuracy_score:  0.9915865384615384\n"
     ]
    }
   ],
   "source": [
    "# Support Vector Classification :\n",
    "\n",
    "from sklearn.svm import SVC\n",
    "SvcModel=SVC( )\n",
    "SvcModel.fit(X_train,y_train)\n",
    "pred=SvcModel.predict(X_test)\n",
    "SVCmodel=metrics.accuracy_score(y_test,pred)\n",
    "print('SVCmodel accuracy_score: ',SVCmodel)\n",
    "# SvcModel.metrics.accuracy_score(X_test,y_test)"
   ]
  },
  {
   "cell_type": "markdown",
   "id": "7a19965d",
   "metadata": {},
   "source": [
    "RandomForestClassifier:"
   ]
  },
  {
   "cell_type": "code",
   "execution_count": 29,
   "id": "ae75d96d",
   "metadata": {},
   "outputs": [
    {
     "data": {
      "text/plain": [
       "RandomForestClassifier()"
      ]
     },
     "execution_count": 29,
     "metadata": {},
     "output_type": "execute_result"
    }
   ],
   "source": [
    "from sklearn.ensemble import RandomForestClassifier\n",
    "Rfcl = RandomForestClassifier()\n",
    "Rfcl.fit(X_train,y_train)"
   ]
  },
  {
   "cell_type": "code",
   "execution_count": 30,
   "id": "2a3eaba5",
   "metadata": {},
   "outputs": [
    {
     "name": "stdout",
     "output_type": "stream",
     "text": [
      "RFCLmodel accuracy_score:  0.9923076923076923\n"
     ]
    }
   ],
   "source": [
    "pred1=Rfcl.predict(X_test)\n",
    "RFCLmodel = metrics.accuracy_score(y_test,pred1)\n",
    "print('RFCLmodel accuracy_score: ',RFCLmodel)"
   ]
  },
  {
   "cell_type": "markdown",
   "id": "7d93d955",
   "metadata": {},
   "source": [
    "5 . DecisionTreeClassifier:"
   ]
  },
  {
   "cell_type": "code",
   "execution_count": 31,
   "id": "a571ad07",
   "metadata": {},
   "outputs": [
    {
     "name": "stdout",
     "output_type": "stream",
     "text": [
      "DTCmodel accuracy_score:  0.9923076923076923\n"
     ]
    }
   ],
   "source": [
    "\n",
    "from sklearn.tree import DecisionTreeClassifier\n",
    "Dtc=DecisionTreeClassifier( )\n",
    "Dtc.fit(X_train,y_train)\n",
    "pred=Dtc.predict(X_test)\n",
    "DTCmodel = metrics.accuracy_score(y_test,pred)\n",
    "print('DTCmodel accuracy_score: ',DTCmodel)"
   ]
  },
  {
   "cell_type": "markdown",
   "id": "a4b9ac42",
   "metadata": {},
   "source": [
    " 6 . K-Nearest Neighbors Algorithm :"
   ]
  },
  {
   "cell_type": "code",
   "execution_count": 32,
   "id": "4502f7b0",
   "metadata": {},
   "outputs": [
    {
     "name": "stdout",
     "output_type": "stream",
     "text": [
      "KNNmodel accuracy_score:  0.6257211538461539\n"
     ]
    }
   ],
   "source": [
    "from sklearn.neighbors import KNeighborsClassifier\n",
    "classifier = KNeighborsClassifier(n_neighbors=5)\n",
    "classifier.fit(X_train, y_train)\n",
    "pred_KNN=classifier.predict(X_test)\n",
    "KNNmodel = metrics.accuracy_score(y_test,pred_KNN)\n",
    "print('KNNmodel accuracy_score: ',KNNmodel)"
   ]
  },
  {
   "cell_type": "markdown",
   "id": "11db0236",
   "metadata": {},
   "source": [
    "### comparioson"
   ]
  },
  {
   "cell_type": "code",
   "execution_count": 33,
   "id": "b94a8ada",
   "metadata": {},
   "outputs": [
    {
     "data": {
      "image/png": "[encoded data removed]",
      "text/plain": [
       "<Figure size 720x360 with 1 Axes>"
      ]
     },
     "metadata": {
      "needs_background": "light"
     },
     "output_type": "display_data"
    },
    {
     "name": "stdout",
     "output_type": "stream",
     "text": [
      "MNB_accuracy 0.9632211538461538\n",
      "MNB_t_accuracy 0.9632211538461538\n",
      "pass_agg_accuracy 0.9932692307692308\n",
      "pass_agg_t 0.9932692307692308\n",
      "log_reg 0.9836538461538461\n"
     ]
    }
   ],
   "source": [
    "import matplotlib.pyplot as plt\n",
    " \n",
    "  \n",
    "# creating the dataset\n",
    "data = {'MNB':MNB_accuracy, 'MNB_t':MNB_t_accuracy, 'pass_agg':pass_agg,\n",
    "        'pass_agg_t':pass_agg_t,'log_reg':log_r_accuracy}\n",
    "algos = list(data.keys())\n",
    "accuracy = list(data.values())\n",
    "  \n",
    "fig = plt.figure(figsize = (10, 5))\n",
    " \n",
    "# creating the bar plot\n",
    "plt.bar(algos, accuracy, color ='maroon',\n",
    "        width = 0.4)\n",
    " \n",
    "plt.xlabel(\"algorithms\")\n",
    "plt.ylabel(\"accuracy\")\n",
    "plt.title(\"accracy for different algorithms\")\n",
    "plt.show()\n",
    " \n",
    "    \n",
    "print('MNB_accuracy',MNB_accuracy)\n",
    "print('MNB_t_accuracy',MNB_t_accuracy)\n",
    "print('pass_agg_accuracy',pass_agg)\n",
    "print('pass_agg_t',pass_agg_t)\n",
    "print('log_reg',log_r_accuracy)"
   ]
  },
  {
   "cell_type": "markdown",
   "id": "58374fd0",
   "metadata": {},
   "source": [
    "#### Note: passive aggrassive algorithm works best"
   ]
  },
  {
   "cell_type": "code",
   "execution_count": 1,
   "id": "b669a0aa",
   "metadata": {},
   "outputs": [
    {
     "ename": "NameError",
     "evalue": "name 'X_test' is not defined",
     "output_type": "error",
     "traceback": [
      "\u001b[1;31m---------------------------------------------------------------------------\u001b[0m",
      "\u001b[1;31mNameError\u001b[0m                                 Traceback (most recent call last)",
      "\u001b[1;32mC:\\Users\\ANAMUL~1\\AppData\\Local\\Temp/ipykernel_8852/2657402416.py\u001b[0m in \u001b[0;36m<module>\u001b[1;34m\u001b[0m\n\u001b[1;32m----> 1\u001b[1;33m \u001b[0mX_new\u001b[0m \u001b[1;33m=\u001b[0m \u001b[0mX_test\u001b[0m\u001b[1;33m[\u001b[0m\u001b[1;33m[\u001b[0m\u001b[1;36m100\u001b[0m\u001b[1;33m]\u001b[0m\u001b[1;33m]\u001b[0m\u001b[1;33m\u001b[0m\u001b[1;33m\u001b[0m\u001b[0m\n\u001b[0m\u001b[0;32m      2\u001b[0m \u001b[1;33m\u001b[0m\u001b[0m\n\u001b[0;32m      3\u001b[0m \u001b[0mprediction\u001b[0m \u001b[1;33m=\u001b[0m \u001b[0mclf\u001b[0m\u001b[1;33m.\u001b[0m\u001b[0mpredict\u001b[0m\u001b[1;33m(\u001b[0m\u001b[0mX_new\u001b[0m\u001b[1;33m)\u001b[0m\u001b[1;33m\u001b[0m\u001b[1;33m\u001b[0m\u001b[0m\n\u001b[0;32m      4\u001b[0m \u001b[0mprint\u001b[0m\u001b[1;33m(\u001b[0m\u001b[0mprediction\u001b[0m\u001b[1;33m)\u001b[0m\u001b[1;33m\u001b[0m\u001b[1;33m\u001b[0m\u001b[0m\n\u001b[0;32m      5\u001b[0m \u001b[1;33m\u001b[0m\u001b[0m\n",
      "\u001b[1;31mNameError\u001b[0m: name 'X_test' is not defined"
     ]
    }
   ],
   "source": [
    "X_new = X_test[[150]]\n",
    "\n",
    "prediction = clf.predict(X_new)\n",
    "print(prediction)\n",
    "\n",
    "if (prediction[0] == 0):\n",
    "  print('The news in Real')\n",
    "else:\n",
    "  print('The news is Fake and Unreliable')"
   ]
  },
  {
   "cell_type": "code",
   "execution_count": 35,
   "id": "89b07695",
   "metadata": {},
   "outputs": [],
   "source": [
    "#save model\n",
    "import pickle \n",
    "filename= 'finalized_model.pkl'\n",
    "pickle.dump(clf_log, open(filename,  'wb'))"
   ]
  },
  {
   "cell_type": "code",
   "execution_count": 36,
   "id": "6f99b820",
   "metadata": {},
   "outputs": [],
   "source": [
    "# save vectorizer\n",
    "import pickle\n",
    "filename = 'vectorizer.pkl'\n",
    "pickle.dump(tf, open(filename,'wb'))"
   ]
  },
  {
   "cell_type": "code",
   "execution_count": null,
   "id": "37e63e72",
   "metadata": {},
   "outputs": [],
   "source": []
  }
 ],
 "metadata": {
  "kernelspec": {
   "display_name": "Python 3 (ipykernel)",
   "language": "python",
   "name": "python3"
  },
  "language_info": {
   "codemirror_mode": {
    "name": "ipython",
    "version": 3
   },
   "file_extension": ".py",
   "mimetype": "text/x-python",
   "name": "python",
   "nbconvert_exporter": "python",
   "pygments_lexer": "ipython3",
   "version": "3.9.7"
  }
 },
 "nbformat": 4,
 "nbformat_minor": 5
}
